{
 "cells": [
  {
   "cell_type": "markdown",
   "id": "bb0a09a3",
   "metadata": {},
   "source": [
    "# Dictionary"
   ]
  },
  {
   "cell_type": "code",
   "execution_count": 1,
   "id": "8375ebf1",
   "metadata": {},
   "outputs": [],
   "source": [
    "# used to store data value in KEY:VALUE pairs.\n",
    "# key must be unique , value duplication allow\n",
    "# python 3.7 is unordered but ptyhon 3.6 is ordered.\n",
    "# indexing supporting"
   ]
  },
  {
   "cell_type": "code",
   "execution_count": 2,
   "id": "85a0f926",
   "metadata": {},
   "outputs": [
    {
     "name": "stdout",
     "output_type": "stream",
     "text": [
      "{'a': 123, 'b': 45, 46: 'har'}\n"
     ]
    }
   ],
   "source": [
    "a = { 'a':123 , 'b':45 , 46:'har' }\n",
    "print(a)"
   ]
  },
  {
   "cell_type": "code",
   "execution_count": 3,
   "id": "54ee8f57",
   "metadata": {},
   "outputs": [
    {
     "name": "stdout",
     "output_type": "stream",
     "text": [
      "{'a': [1, 2, 3], 'b': (1, 2, 3), 'c': {1, 2, 3}}\n"
     ]
    }
   ],
   "source": [
    "a = {'a' : [ 1,2,3] , 'b':(1,2,3) , 'c' : {1,2,3} }\n",
    "print(a)"
   ]
  },
  {
   "cell_type": "code",
   "execution_count": 4,
   "id": "ced7c02d",
   "metadata": {},
   "outputs": [
    {
     "name": "stdout",
     "output_type": "stream",
     "text": [
      "2\n",
      "{'a': [1, 2, 8], 'b': (1, 2, 3), 'c': {1, 2, 3}}\n"
     ]
    }
   ],
   "source": [
    "d = {'a' : [ 1,2,3] , 'b':(1,2,3) , 'c' : {1,2,3} }\n",
    "print(d['a'][1])\n",
    "d['a'][2] = 8\n",
    "print(d)"
   ]
  },
  {
   "cell_type": "code",
   "execution_count": 4,
   "id": "03ecf0d1",
   "metadata": {},
   "outputs": [
    {
     "name": "stdout",
     "output_type": "stream",
     "text": [
      "{'hight': 168, 'weight': 58}\n"
     ]
    }
   ],
   "source": [
    "a = { 'Divyesh':{'hight' : 168, 'weight':58} , 'Sahil':{'hight' : 195, 'weight':58}}\n",
    "print(a['Divyesh'])"
   ]
  },
  {
   "cell_type": "code",
   "execution_count": 6,
   "id": "91230051",
   "metadata": {},
   "outputs": [
    {
     "name": "stdout",
     "output_type": "stream",
     "text": [
      "123\n",
      "12\n",
      "{'a': 123, 'b': 45, 46: 'Ram'}\n"
     ]
    }
   ],
   "source": [
    "d = { 'a':123 , 'b':45 , 46:12 }\n",
    "print(d['a'])\n",
    "print(d[46])\n",
    "d[46] = 'Ram'\n",
    "print(d)"
   ]
  },
  {
   "cell_type": "code",
   "execution_count": 1,
   "id": "0399956b",
   "metadata": {},
   "outputs": [
    {
     "name": "stdout",
     "output_type": "stream",
     "text": [
      "58\n",
      "{'Divyesh': {'hight': 168, 'weight': 58}, 'Sahil': {'hight': 195, 'weight': 88}, 'Tushar': {'height': 185, 'weight': 78}}\n"
     ]
    }
   ],
   "source": [
    "a = { 'Divyesh':{'hight' : 168, 'weight':58} , 'Sahil':{'hight' : 195, 'weight':58}}\n",
    "print(a['Sahil']['weight'])\n",
    "a['Sahil']['weight']=88\n",
    "a['Tushar']={'height':185 , 'weight' : 78}\n",
    "print(a)"
   ]
  },
  {
   "cell_type": "markdown",
   "id": "fddbee69",
   "metadata": {},
   "source": [
    "# Functions "
   ]
  },
  {
   "cell_type": "code",
   "execution_count": 5,
   "id": "89bb1f1f",
   "metadata": {},
   "outputs": [
    {
     "data": {
      "text/plain": [
       "dict_keys(['a', 'b', 'har'])"
      ]
     },
     "execution_count": 5,
     "metadata": {},
     "output_type": "execute_result"
    }
   ],
   "source": [
    "a = { 'a':123 , 'b':45 , 'har':86 }\n",
    "a.keys()"
   ]
  },
  {
   "cell_type": "code",
   "execution_count": 9,
   "id": "3904a38c",
   "metadata": {},
   "outputs": [
    {
     "data": {
      "text/plain": [
       "dict_items([('a', 123), ('b', 45), (46, 'har')])"
      ]
     },
     "execution_count": 9,
     "metadata": {},
     "output_type": "execute_result"
    }
   ],
   "source": [
    "a = { 'a':123 , 'b':45 , 46:'har' }\n",
    "a.items()"
   ]
  },
  {
   "cell_type": "code",
   "execution_count": 10,
   "id": "0c113f7e",
   "metadata": {},
   "outputs": [
    {
     "data": {
      "text/plain": [
       "dict_values([123, 45, 'har'])"
      ]
     },
     "execution_count": 10,
     "metadata": {},
     "output_type": "execute_result"
    }
   ],
   "source": [
    "a = { 'a':123 , 'b':45 , 46:'har' }\n",
    "a.values()"
   ]
  },
  {
   "cell_type": "code",
   "execution_count": 11,
   "id": "027dde97",
   "metadata": {},
   "outputs": [
    {
     "data": {
      "text/plain": [
       "{'a': 123, 'b': 45, 46: 'har', 'c': 78}"
      ]
     },
     "execution_count": 11,
     "metadata": {},
     "output_type": "execute_result"
    }
   ],
   "source": [
    "a = { 'a':123 , 'b':45 , 46:'har' }\n",
    "a.update({'c':78})\n",
    "a"
   ]
  },
  {
   "cell_type": "code",
   "execution_count": 2,
   "id": "9be342d9",
   "metadata": {},
   "outputs": [
    {
     "data": {
      "text/plain": [
       "{'x': 123, 'y': 45}"
      ]
     },
     "execution_count": 2,
     "metadata": {},
     "output_type": "execute_result"
    }
   ],
   "source": [
    "a = { 'x':123 , 'y':45 , 46:'z' }\n",
    "a.popitem()\n",
    "a"
   ]
  },
  {
   "cell_type": "code",
   "execution_count": 4,
   "id": "88efd92b",
   "metadata": {},
   "outputs": [
    {
     "data": {
      "text/plain": [
       "{'y': 45, 46: 'z'}"
      ]
     },
     "execution_count": 4,
     "metadata": {},
     "output_type": "execute_result"
    }
   ],
   "source": [
    "a = { 'x':123 , 'y':45 , 46:'z' }\n",
    "a.pop('x')\n",
    "a"
   ]
  },
  {
   "cell_type": "code",
   "execution_count": 14,
   "id": "f10ba0e0",
   "metadata": {},
   "outputs": [
    {
     "data": {
      "text/plain": [
       "{}"
      ]
     },
     "execution_count": 14,
     "metadata": {},
     "output_type": "execute_result"
    }
   ],
   "source": [
    "a = { 'x':123 , 'y':45 , 46:'z' }\n",
    "a.clear()\n",
    "a"
   ]
  },
  {
   "cell_type": "code",
   "execution_count": 7,
   "id": "080457af",
   "metadata": {},
   "outputs": [
    {
     "name": "stdout",
     "output_type": "stream",
     "text": [
      "{'raj': (25, 26, 28), 'shyam': (25, 26, 28), 'ajay': (25, 26, 28)}\n"
     ]
    }
   ],
   "source": [
    "name = ('raj','shyam','ajay')\n",
    "age = (25,26,28)\n",
    "d = dict.fromkeys(name,age)\n",
    "print(d)"
   ]
  },
  {
   "cell_type": "code",
   "execution_count": 33,
   "id": "4c47b18e",
   "metadata": {},
   "outputs": [
    {
     "data": {
      "text/plain": [
       "{'Gujarat': 'Gandhinagar',\n",
       " 'Maharastha': 'Mumbai',\n",
       " 'Rajasthan': 'Jaipur',\n",
       " 'Uttar Pradesh': 'Lucknow'}"
      ]
     },
     "execution_count": 33,
     "metadata": {},
     "output_type": "execute_result"
    }
   ],
   "source": [
    "state = ['Gujarat','Maharastha','Rajasthan','Uttar Pradesh']\n",
    "Capital = ['Gandhinagar','Mumbai','Jaipur','Lucknow']\n",
    "d ={}\n",
    "for key in state:\n",
    "    for value in Capital:\n",
    "        d[key]=value\n",
    "        Capital.remove(value)\n",
    "        break \n",
    "d    "
   ]
  },
  {
   "cell_type": "code",
   "execution_count": null,
   "id": "a3ea247c",
   "metadata": {},
   "outputs": [],
   "source": []
  }
 ],
 "metadata": {
  "kernelspec": {
   "display_name": "Python 3",
   "language": "python",
   "name": "python3"
  },
  "language_info": {
   "codemirror_mode": {
    "name": "ipython",
    "version": 3
   },
   "file_extension": ".py",
   "mimetype": "text/x-python",
   "name": "python",
   "nbconvert_exporter": "python",
   "pygments_lexer": "ipython3",
   "version": "3.11.0"
  },
  "vscode": {
   "interpreter": {
    "hash": "8234067497fbd6b95f87454e4c04d7068f4c853add15f694f8e3563fe9fbbd7f"
   }
  }
 },
 "nbformat": 4,
 "nbformat_minor": 5
}
