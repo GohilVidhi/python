{
 "cells": [
  {
   "cell_type": "raw",
   "id": "3392cf1e",
   "metadata": {},
   "source": [
    "The try block lets you test a block of code for errors.\n",
    "The except block lets you handle the error.\n",
    "The else block lets you execute code when there is no error.\n",
    "The finally block lets you execute code, regardless of the result of the try- and except blocks"
   ]
  },
  {
   "cell_type": "markdown",
   "id": "3ca0a860",
   "metadata": {},
   "source": [
    "# Exception Handling"
   ]
  },
  {
   "cell_type": "raw",
   "id": "3a071149",
   "metadata": {},
   "source": [
    "try and except are exception handeling statement\n",
    "When an error occurs, or exception as we call it, Python will normally stop and generate an error message.\n",
    "These exceptions can be handled using the try statement."
   ]
  },
  {
   "cell_type": "code",
   "execution_count": 7,
   "id": "d782f349",
   "metadata": {},
   "outputs": [
    {
     "name": "stdout",
     "output_type": "stream",
     "text": [
      "An exception occurred\n"
     ]
    }
   ],
   "source": [
    "try:\n",
    "    print(x)\n",
    "except:\n",
    "    print(\"An exception occurred\")        \n",
    "\n",
    "# the try block raises an error, the except block will be executed."
   ]
  },
  {
   "cell_type": "code",
   "execution_count": 13,
   "id": "a20d30b7",
   "metadata": {},
   "outputs": [
    {
     "name": "stdout",
     "output_type": "stream",
     "text": [
      "enter your age : 54sdfg\n",
      "value error\n"
     ]
    }
   ],
   "source": [
    "try:\n",
    "    age = int(input('enter your age : '))\n",
    "except:\n",
    "    print('value error')"
   ]
  },
  {
   "cell_type": "code",
   "execution_count": 1,
   "id": "b1b54c73",
   "metadata": {},
   "outputs": [
    {
     "name": "stdout",
     "output_type": "stream",
     "text": [
      "enter your age : dfv\n",
      "plese enter numbers\n",
      "enter your age : 54\n"
     ]
    }
   ],
   "source": [
    "try:\n",
    "    age = int(input('enter your age : '))\n",
    "except:\n",
    "    print('plese enter numbers')\n",
    "    age = int(input('enter your age : '))"
   ]
  },
  {
   "cell_type": "code",
   "execution_count": 7,
   "id": "b6eda01e",
   "metadata": {},
   "outputs": [
    {
     "name": "stdout",
     "output_type": "stream",
     "text": [
      "Variable x is not defined\n"
     ]
    }
   ],
   "source": [
    "# Many Exceptions :\n",
    "try:\n",
    "    print(x)\n",
    "except NameError:\n",
    "    print(\"Variable x is not defined\")\n",
    "except:\n",
    "    print(\"Something else went wrong\")"
   ]
  },
  {
   "cell_type": "code",
   "execution_count": 25,
   "id": "606a1a48",
   "metadata": {},
   "outputs": [
    {
     "name": "stdout",
     "output_type": "stream",
     "text": [
      "enter your age : lkjh\n",
      "value error\n"
     ]
    }
   ],
   "source": [
    "try:\n",
    "    age = int(input('enter your age : '))\n",
    "except NameError :\n",
    "    print('name error')\n",
    "except ValueError:\n",
    "    print('value error')\n",
    "except TypeError:\n",
    "    print('type error')"
   ]
  },
  {
   "cell_type": "code",
   "execution_count": 26,
   "id": "0626913c",
   "metadata": {},
   "outputs": [
    {
     "name": "stdout",
     "output_type": "stream",
     "text": [
      "name error\n"
     ]
    }
   ],
   "source": [
    "try:\n",
    "    print(asdfsda)\n",
    "except NameError :\n",
    "    print('name error')\n",
    "except ValueError:\n",
    "    print('value error')\n",
    "except TypeError:\n",
    "    print('type error')"
   ]
  },
  {
   "cell_type": "code",
   "execution_count": 27,
   "id": "ba7a5c10",
   "metadata": {},
   "outputs": [
    {
     "name": "stdout",
     "output_type": "stream",
     "text": [
      "type error\n"
     ]
    }
   ],
   "source": [
    "try:\n",
    "    add = 45 + '12'\n",
    "except NameError :\n",
    "    print('name error')\n",
    "except ValueError:\n",
    "    print('value error')\n",
    "except TypeError:\n",
    "    print('type error')"
   ]
  },
  {
   "cell_type": "markdown",
   "id": "85850a39",
   "metadata": {},
   "source": [
    "## Else"
   ]
  },
  {
   "cell_type": "raw",
   "id": "9e68134d",
   "metadata": {},
   "source": [
    "when try successfully runs else will run."
   ]
  },
  {
   "cell_type": "code",
   "execution_count": 28,
   "id": "045c6c08",
   "metadata": {},
   "outputs": [
    {
     "name": "stdout",
     "output_type": "stream",
     "text": [
      "Hello\n",
      "Nothing went wrong\n"
     ]
    }
   ],
   "source": [
    "try:\n",
    "    print(\"Hello\")\n",
    "except:\n",
    "    print(\"Something went wrong\")\n",
    "else:\n",
    "    print(\"Nothing went wrong\")"
   ]
  },
  {
   "cell_type": "markdown",
   "id": "193bbddd",
   "metadata": {},
   "source": [
    "## Finally"
   ]
  },
  {
   "cell_type": "raw",
   "id": "570d3f2e",
   "metadata": {},
   "source": [
    "The finally block, if specified, will be executed regardless if the try block raises an error or not."
   ]
  },
  {
   "cell_type": "code",
   "execution_count": 33,
   "id": "438103e5",
   "metadata": {},
   "outputs": [
    {
     "name": "stdout",
     "output_type": "stream",
     "text": [
      "Hello\n",
      "Nothing went wrong\n"
     ]
    }
   ],
   "source": [
    "try:\n",
    "    print(\"Hello\")\n",
    "except:\n",
    "    print(\"Something went wrong\")\n",
    "finally:\n",
    "    print(\"Nothing went wrong\")"
   ]
  },
  {
   "cell_type": "code",
   "execution_count": 32,
   "id": "a402df5e",
   "metadata": {},
   "outputs": [
    {
     "name": "stdout",
     "output_type": "stream",
     "text": [
      "Something went wrong\n",
      "The 'try except' is finished\n"
     ]
    }
   ],
   "source": [
    "try:\n",
    "    print(x)\n",
    "except:\n",
    "    print(\"Something went wrong\")\n",
    "finally:\n",
    "    print(\"The 'try except' is finished\")"
   ]
  }
 ],
 "metadata": {
  "kernelspec": {
   "display_name": "Python 3 (ipykernel)",
   "language": "python",
   "name": "python3"
  },
  "language_info": {
   "codemirror_mode": {
    "name": "ipython",
    "version": 3
   },
   "file_extension": ".py",
   "mimetype": "text/x-python",
   "name": "python",
   "nbconvert_exporter": "python",
   "pygments_lexer": "ipython3",
   "version": "3.9.12"
  }
 },
 "nbformat": 4,
 "nbformat_minor": 5
}
