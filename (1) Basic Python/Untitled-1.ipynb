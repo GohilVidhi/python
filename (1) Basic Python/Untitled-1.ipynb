{
 "cells": [
  {
   "cell_type": "code",
   "execution_count": 1,
   "metadata": {},
   "outputs": [
    {
     "data": {
      "text/plain": [
       "[7, 9, 11, 13, 15]"
      ]
     },
     "execution_count": 1,
     "metadata": {},
     "output_type": "execute_result"
    }
   ],
   "source": [
    "L1 = [1,2,3,4,5]\n",
    "L2 = [6,7,8,9,10]\n",
    "L3 = []\n",
    "for i in range(len(L1)):\n",
    "    L3.append(L1[i]+L2[i])\n",
    "L3\n"
   ]
  },
  {
   "cell_type": "code",
   "execution_count": 9,
   "metadata": {},
   "outputs": [
    {
     "data": {
      "text/plain": [
       "[7, 9, 11, 13, 15]"
      ]
     },
     "execution_count": 9,
     "metadata": {},
     "output_type": "execute_result"
    }
   ],
   "source": [
    "L1 = [1,2,3,4,5]\n",
    "L2 = [6,7,8,9,10]\n",
    "L3 = [i+j for i,j in zip(L1,L2)]\n",
    "L3"
   ]
  },
  {
   "cell_type": "code",
   "execution_count": 1,
   "metadata": {},
   "outputs": [
    {
     "data": {
      "text/plain": [
       "[50, 'India', 25, 15, 'Maxgen', 100, True, 45]"
      ]
     },
     "execution_count": 1,
     "metadata": {},
     "output_type": "execute_result"
    }
   ],
   "source": [
    "L1 = [45,True,100,\"Maxgen\",15,25,\"India\",50]\n",
    "a = [i for i in L1[::-1]]\n",
    "a\n"
   ]
  },
  {
   "cell_type": "code",
   "execution_count": 8,
   "metadata": {},
   "outputs": [
    {
     "data": {
      "text/plain": [
       "[10, 9, 8, 7, 6, 5, 4, 3, 2, 1]"
      ]
     },
     "execution_count": 8,
     "metadata": {},
     "output_type": "execute_result"
    }
   ],
   "source": [
    "L1 = [1,2,3,4,5,6,7,8,9,10]\n",
    "L2 = []\n",
    "for value in L1:\n",
    "    L2 =  [value] + L2  \n",
    "L2"
   ]
  },
  {
   "cell_type": "code",
   "execution_count": 6,
   "metadata": {},
   "outputs": [
    {
     "name": "stdout",
     "output_type": "stream",
     "text": [
      "outer loop\n",
      "inner loop\n",
      "inner loop\n",
      "inner loop\n",
      "inner loop\n",
      "\n",
      "outer loop\n",
      "inner loop\n",
      "inner loop\n",
      "inner loop\n",
      "inner loop\n",
      "\n",
      "outer loop\n",
      "inner loop\n",
      "inner loop\n",
      "inner loop\n",
      "inner loop\n",
      "\n"
     ]
    }
   ],
   "source": [
    "for i in range(3):\n",
    "    print(\"outer loop\")\n",
    "    for j in range(4):\n",
    "        print(\"inner loop\")\n",
    "    print()"
   ]
  }
 ],
 "metadata": {
  "kernelspec": {
   "display_name": "Python 3",
   "language": "python",
   "name": "python3"
  },
  "language_info": {
   "codemirror_mode": {
    "name": "ipython",
    "version": 3
   },
   "file_extension": ".py",
   "mimetype": "text/x-python",
   "name": "python",
   "nbconvert_exporter": "python",
   "pygments_lexer": "ipython3",
   "version": "3.11.0"
  },
  "orig_nbformat": 4,
  "vscode": {
   "interpreter": {
    "hash": "8234067497fbd6b95f87454e4c04d7068f4c853add15f694f8e3563fe9fbbd7f"
   }
  }
 },
 "nbformat": 4,
 "nbformat_minor": 2
}
