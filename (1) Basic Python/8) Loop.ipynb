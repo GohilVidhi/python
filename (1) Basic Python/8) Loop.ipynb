{
 "cells": [
  {
   "cell_type": "markdown",
   "id": "16748f25",
   "metadata": {},
   "source": [
    "# Loop"
   ]
  },
  {
   "cell_type": "code",
   "execution_count": 1,
   "id": "a67c99e7",
   "metadata": {},
   "outputs": [],
   "source": [
    "# In Python, iterative statements allow us to execute a block of code repeatedly as long as the condition is True. \n",
    "# We also call it a loop statements.\n",
    "\n",
    "# Python provides us the following two loop statement to perform some actions repeatedly\n",
    "#     1) for loop\n",
    "#     2) while loop"
   ]
  },
  {
   "cell_type": "markdown",
   "id": "ae2fa31f",
   "metadata": {},
   "source": [
    "# For Loop"
   ]
  },
  {
   "cell_type": "code",
   "execution_count": 2,
   "id": "76a87687",
   "metadata": {},
   "outputs": [],
   "source": [
    "# We use a for loop when we want to repeat a code block a fixed number of times.\n",
    "# In Python,the for loop is used to iterate over a sequence such as a list, string, tuple, other iterable objects such as range."
   ]
  },
  {
   "cell_type": "code",
   "execution_count": 3,
   "id": "69f28e60",
   "metadata": {},
   "outputs": [],
   "source": [
    "# Syntax :-\n",
    "# --> for i in range/sequencee:\n",
    "#        statement 1\n",
    "#        statement 2\n",
    "#        statement n"
   ]
  },
  {
   "cell_type": "code",
   "execution_count": 3,
   "id": "62c3fbe7",
   "metadata": {},
   "outputs": [
    {
     "name": "stdout",
     "output_type": "stream",
     "text": [
      "10 9 8 7 6 5 4 3 2 "
     ]
    }
   ],
   "source": [
    "#for i in \"banana\":\n",
    "#    print(i)\n",
    "\n",
    "for i in range(10,1,-1):\n",
    "    print(i, end=\" \")"
   ]
  },
  {
   "cell_type": "code",
   "execution_count": 5,
   "id": "23e48eab",
   "metadata": {},
   "outputs": [
    {
     "name": "stdout",
     "output_type": "stream",
     "text": [
      "apple\n",
      "banana\n",
      "cherry\n"
     ]
    }
   ],
   "source": [
    "fruits = [\"apple\", \"banana\", \"cherry\"]\n",
    "for i in fruits:\n",
    "    print(i)"
   ]
  },
  {
   "cell_type": "code",
   "execution_count": 6,
   "id": "26d31468",
   "metadata": {},
   "outputs": [
    {
     "name": "stdout",
     "output_type": "stream",
     "text": [
      "0\n",
      "1\n",
      "2\n",
      "3\n",
      "4\n",
      "5\n",
      "6\n",
      "7\n",
      "8\n",
      "9\n"
     ]
    }
   ],
   "source": [
    "for i in range(10):\n",
    "    print(i)"
   ]
  },
  {
   "cell_type": "code",
   "execution_count": 7,
   "id": "c2b69b22",
   "metadata": {},
   "outputs": [
    {
     "name": "stdout",
     "output_type": "stream",
     "text": [
      "0\n",
      "5\n",
      "10\n",
      "15\n",
      "20\n",
      "25\n"
     ]
    }
   ],
   "source": [
    "for i in range(0, 30, 5):\n",
    "    print(i)"
   ]
  },
  {
   "cell_type": "code",
   "execution_count": 8,
   "id": "41adfc5b",
   "metadata": {},
   "outputs": [
    {
     "name": "stdout",
     "output_type": "stream",
     "text": [
      "1 = 1\n",
      "2 = 4\n",
      "3 = 9\n",
      "4 = 16\n",
      "5 = 25\n"
     ]
    }
   ],
   "source": [
    "numbers = [1, 2, 3, 4, 5]\n",
    "for i in numbers:\n",
    "    square = i ** 2\n",
    "    print( i ,'=', square)"
   ]
  },
  {
   "cell_type": "markdown",
   "id": "7b5e125d",
   "metadata": {},
   "source": [
    "# If else in for loop"
   ]
  },
  {
   "cell_type": "code",
   "execution_count": 1,
   "id": "14d34a16",
   "metadata": {},
   "outputs": [
    {
     "name": "stdout",
     "output_type": "stream",
     "text": [
      "Odd Number: 1\n",
      "Even Number: 2\n",
      "Odd Number: 3\n",
      "Even Number: 4\n",
      "Odd Number: 5\n",
      "Even Number: 6\n",
      "Odd Number: 7\n",
      "Even Number: 8\n",
      "Odd Number: 9\n",
      "Even Number: 10\n"
     ]
    }
   ],
   "source": [
    "for i in range(1, 11):\n",
    "    if i % 2 == 0:\n",
    "        print('Even Number:', i)\n",
    "    else:\n",
    "        print('Odd Number:', i)"
   ]
  },
  {
   "cell_type": "markdown",
   "id": "c740005b",
   "metadata": {},
   "source": [
    "#  Loop Control Statements in for loop"
   ]
  },
  {
   "cell_type": "code",
   "execution_count": 2,
   "id": "d2fb88c0",
   "metadata": {},
   "outputs": [],
   "source": [
    "# Loop control statements change the normal flow of execution. \n",
    "# It is used when you want to exit a loop or skip a part of the loop based on the given condition. \n",
    "# It also knows as transfer statements.\n",
    "# the three types of loop control statements i.e., break, continue and pass."
   ]
  },
  {
   "cell_type": "markdown",
   "id": "d2330a9e",
   "metadata": {},
   "source": [
    "# Break Statement in for loop"
   ]
  },
  {
   "cell_type": "code",
   "execution_count": 11,
   "id": "6e26916c",
   "metadata": {},
   "outputs": [],
   "source": [
    "# Terminate the current loop. Use the break statement to come out of the loop instantly.\n",
    "# The break statement is used inside the loop to exit out of the loop. In Python, when a break statement is encountered inside \n",
    "# a loop, the loop is immediately terminated, and the program control transfer to the next statement following the loop"
   ]
  },
  {
   "cell_type": "code",
   "execution_count": 6,
   "id": "c3fed175",
   "metadata": {},
   "outputs": [
    {
     "name": "stdout",
     "output_type": "stream",
     "text": [
      "1\n",
      "2\n",
      "3\n",
      "4\n",
      "5\n",
      "6\n",
      "7\n",
      "End\n"
     ]
    }
   ],
   "source": [
    "# Example: break the loop if a number is greater than 7.\n",
    "for i in range(1,11):\n",
    "    if i > 7:\n",
    "        break\n",
    "    else:\n",
    "        print(i)\n",
    "print(\"End\")"
   ]
  },
  {
   "cell_type": "markdown",
   "id": "0e58e463",
   "metadata": {},
   "source": [
    "# Continue Statement in for loop"
   ]
  },
  {
   "cell_type": "code",
   "execution_count": 13,
   "id": "e12f96d9",
   "metadata": {},
   "outputs": [],
   "source": [
    "# The continue statement skips the current iteration of a loop and immediately jumps to the next iteration."
   ]
  },
  {
   "cell_type": "code",
   "execution_count": 3,
   "id": "324bb67e",
   "metadata": {},
   "outputs": [
    {
     "name": "stdout",
     "output_type": "stream",
     "text": [
      "1\n",
      "2\n",
      "3\n",
      "4\n",
      "5\n",
      "6\n",
      "7\n",
      "9\n",
      "10\n"
     ]
    }
   ],
   "source": [
    "for i in range(1,11):\n",
    "    if i == 8:\n",
    "        continue\n",
    "    else:\n",
    "        print(i)"
   ]
  },
  {
   "cell_type": "markdown",
   "id": "81bd756a",
   "metadata": {},
   "source": [
    "# Pass Statement in for loop"
   ]
  },
  {
   "cell_type": "code",
   "execution_count": 15,
   "id": "6d12fac2",
   "metadata": {},
   "outputs": [],
   "source": [
    "# The pass statement is a null statement, i.e., nothing happens when the statement is executed. \n",
    "# Primarily it is used in empty fun.or class.When the interpreter finds a pass statement in the program,it returns no operation."
   ]
  },
  {
   "cell_type": "code",
   "execution_count": 5,
   "id": "5afe94f5",
   "metadata": {},
   "outputs": [],
   "source": [
    "num = [1, 4, 5, 3, 7, 8]\n",
    "for i in num:\n",
    "    pass\n",
    "\n",
    "# having an empty if statement like this, would raise an error without the pass statement"
   ]
  },
  {
   "cell_type": "markdown",
   "id": "398f23d4",
   "metadata": {},
   "source": [
    "# Nested for loops"
   ]
  },
  {
   "cell_type": "code",
   "execution_count": 17,
   "id": "2163a4f9",
   "metadata": {},
   "outputs": [],
   "source": [
    "# Nested for loop is a for loop inside another for a loop."
   ]
  },
  {
   "cell_type": "code",
   "execution_count": 18,
   "id": "c3046743",
   "metadata": {},
   "outputs": [],
   "source": [
    "# Syntax of nested for loops:\n",
    "# --> for element in sequence  #outer for loop\n",
    "#         for element in sequence: # inner for loop\n",
    "#             body of inner for loop\n",
    "#         body of outer for loop\n",
    "#     other statements"
   ]
  },
  {
   "cell_type": "code",
   "execution_count": 3,
   "id": "1db30d6f",
   "metadata": {},
   "outputs": [
    {
     "name": "stdout",
     "output_type": "stream",
     "text": [
      "Enter the value : 5\n",
      "* \n",
      "* * \n",
      "* * * \n",
      "* * * * \n",
      "* * * * * \n"
     ]
    }
   ],
   "source": [
    "a = int(input(\"Enter the value : \"))\n",
    "for i in range(1, a + 1): # outer loop\n",
    "    for j in range(1, i + 1): # inner loop\n",
    "        print(\"*\", end=\" \")\n",
    "    print('')"
   ]
  },
  {
   "cell_type": "markdown",
   "id": "4c520e4f",
   "metadata": {},
   "source": [
    "# While Loop"
   ]
  },
  {
   "cell_type": "code",
   "execution_count": 20,
   "id": "919a448a",
   "metadata": {},
   "outputs": [],
   "source": [
    "# With the while loop we can execute a set of statements as long as a condition is true."
   ]
  },
  {
   "cell_type": "code",
   "execution_count": 21,
   "id": "4b78e522",
   "metadata": {},
   "outputs": [],
   "source": [
    "# Syntax :-\n",
    "# --> while condition:\n",
    "#         Block of statement(s)"
   ]
  },
  {
   "cell_type": "code",
   "execution_count": 1,
   "id": "6a4e4a75",
   "metadata": {},
   "outputs": [
    {
     "name": "stdout",
     "output_type": "stream",
     "text": [
      "1\n",
      "2\n",
      "3\n",
      "4\n"
     ]
    }
   ],
   "source": [
    "# Example: Print numbers less than 5.\n",
    "a = 1\n",
    "while a < 5: # run loop till count is less than 5\n",
    "    print(a) \n",
    "    a += 1"
   ]
  },
  {
   "cell_type": "code",
   "execution_count": 3,
   "id": "8eefad49",
   "metadata": {},
   "outputs": [
    {
     "name": "stdout",
     "output_type": "stream",
     "text": [
      "Total iteration required : 3\n"
     ]
    }
   ],
   "source": [
    "count = 0\n",
    "number = 180\n",
    "while number > 10:\n",
    "    number = number / 3  # divide number by 3    \n",
    "    count = count + 1  # increase count\n",
    "print('Total iteration required :', count)"
   ]
  },
  {
   "cell_type": "markdown",
   "id": "e41d70a9",
   "metadata": {},
   "source": [
    "# If else in While loop"
   ]
  },
  {
   "cell_type": "code",
   "execution_count": 24,
   "id": "220b799b",
   "metadata": {},
   "outputs": [
    {
     "name": "stdout",
     "output_type": "stream",
     "text": [
      "Please Enter Number :10\n",
      "10 is a even number\n",
      "9 is a odd number\n",
      "8 is a even number\n",
      "7 is a odd number\n",
      "6 is a even number\n",
      "5 is a odd number\n",
      "4 is a even number\n",
      "3 is a odd number\n",
      "2 is a even number\n",
      "1 is a odd number\n"
     ]
    }
   ],
   "source": [
    "n = int(input('Please Enter Number :'))\n",
    "while n > 0:\n",
    "    if n % 2 == 0:  # check even and odd\n",
    "        print(n, 'is a even number')\n",
    "    else:\n",
    "        print(n, 'is a odd number')   \n",
    "    n = n - 1 # decrease number by 1 in each iteration"
   ]
  },
  {
   "cell_type": "markdown",
   "id": "07f8544a",
   "metadata": {},
   "source": [
    "# else in while loop"
   ]
  },
  {
   "cell_type": "code",
   "execution_count": 25,
   "id": "f7d9377e",
   "metadata": {},
   "outputs": [
    {
     "name": "stdout",
     "output_type": "stream",
     "text": [
      "1\n",
      "2\n",
      "3\n",
      "4\n",
      "5\n",
      "Done. while loop executed normally\n"
     ]
    }
   ],
   "source": [
    "i = 1\n",
    "while i <= 5:\n",
    "    print(i)\n",
    "    i = i + 1\n",
    "else:\n",
    "    print(\"Done. while loop executed normally\")"
   ]
  },
  {
   "cell_type": "markdown",
   "id": "30049fbd",
   "metadata": {},
   "source": [
    "# break statement in while loop"
   ]
  },
  {
   "cell_type": "code",
   "execution_count": 26,
   "id": "31b61f3a",
   "metadata": {},
   "outputs": [
    {
     "name": "stdout",
     "output_type": "stream",
     "text": [
      "1\n",
      "2\n",
      "3\n",
      "4\n",
      "5\n"
     ]
    }
   ],
   "source": [
    "i = 1\n",
    "while i < 10:\n",
    "    print(i)\n",
    "    if i == 5:\n",
    "        break\n",
    "    i += 1"
   ]
  },
  {
   "cell_type": "markdown",
   "id": "2c6cb5d0",
   "metadata": {},
   "source": [
    "# continue statement in while loop"
   ]
  },
  {
   "cell_type": "code",
   "execution_count": 27,
   "id": "ed42a3ea",
   "metadata": {},
   "outputs": [
    {
     "name": "stdout",
     "output_type": "stream",
     "text": [
      "1\n",
      "2\n",
      "3\n",
      "5\n",
      "6\n",
      "7\n"
     ]
    }
   ],
   "source": [
    "i = 0\n",
    "while i < 7:\n",
    "    i += 1\n",
    "    if i == 4:\n",
    "        continue\n",
    "    print(i)"
   ]
  },
  {
   "cell_type": "markdown",
   "id": "ecc19516",
   "metadata": {},
   "source": [
    "# pass statement in while loop"
   ]
  },
  {
   "cell_type": "code",
   "execution_count": 1,
   "id": "5c26e528",
   "metadata": {},
   "outputs": [],
   "source": [
    "n = 4\n",
    "while n > 0:\n",
    "    n = n - 1\n",
    "    pass"
   ]
  },
  {
   "cell_type": "markdown",
   "id": "43bcedcb",
   "metadata": {},
   "source": [
    "# Nested while loops"
   ]
  },
  {
   "cell_type": "raw",
   "id": "dfdfb921",
   "metadata": {},
   "source": [
    "# Syntax of nested for loops:-\n",
    "--> while expression:             \n",
    "        while expression:    \n",
    "            statemen(s) of inner loop\n",
    "        statemen(s) of outer loop "
   ]
  },
  {
   "cell_type": "code",
   "execution_count": 6,
   "id": "a7f86fe6",
   "metadata": {},
   "outputs": [
    {
     "name": "stdout",
     "output_type": "stream",
     "text": [
      "* \n",
      "* * \n",
      "* * * \n",
      "* * * * \n",
      "* * * * * \n"
     ]
    }
   ],
   "source": [
    "i = 1\n",
    "while i < 6:\n",
    "    j = 0\n",
    "    while j < i:\n",
    "        print('*', end=' ')\n",
    "        j = j + 1\n",
    "    print('')\n",
    "    i = i + 1"
   ]
  },
  {
   "cell_type": "code",
   "execution_count": 17,
   "id": "80240fe9",
   "metadata": {},
   "outputs": [
    {
     "name": "stdout",
     "output_type": "stream",
     "text": [
      "*****-*****\n",
      "****---****\n",
      "***-----***\n",
      "**-------**\n",
      "*---------*\n"
     ]
    }
   ],
   "source": [
    "a = 12\n",
    "i = (a // 2) - 1\n",
    "j = 1\n",
    "while i != 0:\n",
    "    while j <= (a - 2):\n",
    "        print('*' * i,end = '')\n",
    "        print('-' * j,end = '')\n",
    "        print('*' * i,end = '\\n')\n",
    "        i -= 1\n",
    "        j += 2 "
   ]
  },
  {
   "cell_type": "code",
   "execution_count": null,
   "id": "cdbf3927",
   "metadata": {},
   "outputs": [],
   "source": []
  }
 ],
 "metadata": {
  "kernelspec": {
   "display_name": "Python 3",
   "language": "python",
   "name": "python3"
  },
  "language_info": {
   "codemirror_mode": {
    "name": "ipython",
    "version": 3
   },
   "file_extension": ".py",
   "mimetype": "text/x-python",
   "name": "python",
   "nbconvert_exporter": "python",
   "pygments_lexer": "ipython3",
   "version": "3.11.0 (main, Oct 24 2022, 18:26:48) [MSC v.1933 64 bit (AMD64)]"
  },
  "vscode": {
   "interpreter": {
    "hash": "8234067497fbd6b95f87454e4c04d7068f4c853add15f694f8e3563fe9fbbd7f"
   }
  }
 },
 "nbformat": 4,
 "nbformat_minor": 5
}
