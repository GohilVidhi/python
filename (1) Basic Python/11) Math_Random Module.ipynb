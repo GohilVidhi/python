{
 "cells": [
  {
   "cell_type": "markdown",
   "id": "e05e162c",
   "metadata": {},
   "source": [
    "# Math"
   ]
  },
  {
   "cell_type": "code",
   "execution_count": 19,
   "id": "863ca291",
   "metadata": {},
   "outputs": [],
   "source": [
    "import math"
   ]
  },
  {
   "cell_type": "code",
   "execution_count": 32,
   "id": "13ead8a2",
   "metadata": {},
   "outputs": [
    {
     "name": "stdout",
     "output_type": "stream",
     "text": [
      "-0.3048106211022167\n"
     ]
    }
   ],
   "source": [
    "a = math.sin(60)\n",
    "print(a)"
   ]
  },
  {
   "cell_type": "code",
   "execution_count": 21,
   "id": "2450d161",
   "metadata": {},
   "outputs": [
    {
     "name": "stdout",
     "output_type": "stream",
     "text": [
      "0.15425144988758405\n"
     ]
    }
   ],
   "source": [
    "b = math.cos(30)\n",
    "print(b)"
   ]
  },
  {
   "cell_type": "code",
   "execution_count": 22,
   "id": "6a5e8feb",
   "metadata": {},
   "outputs": [
    {
     "name": "stdout",
     "output_type": "stream",
     "text": [
      "7.0\n"
     ]
    }
   ],
   "source": [
    "c = math.sqrt(49)\n",
    "print(c)"
   ]
  },
  {
   "cell_type": "code",
   "execution_count": 23,
   "id": "1f150ac9",
   "metadata": {},
   "outputs": [
    {
     "name": "stdout",
     "output_type": "stream",
     "text": [
      "2\n",
      "6\n",
      "-5\n",
      "23\n",
      "10\n"
     ]
    }
   ],
   "source": [
    "#Round a number upward to its nearest integer\n",
    "print(math.ceil(1.4))\n",
    "print(math.ceil(5.3))\n",
    "print(math.ceil(-5.3))\n",
    "print(math.ceil(22.6))\n",
    "print(math.ceil(10.0))"
   ]
  },
  {
   "cell_type": "code",
   "execution_count": 24,
   "id": "2112997a",
   "metadata": {},
   "outputs": [
    {
     "name": "stdout",
     "output_type": "stream",
     "text": [
      "0\n",
      "1\n",
      "5\n",
      "-6\n",
      "22\n",
      "10\n"
     ]
    }
   ],
   "source": [
    "# Round numbers down to the nearest integer\n",
    "print(math.floor(0.6))\n",
    "print(math.floor(1.4))\n",
    "print(math.floor(5.3))\n",
    "print(math.floor(-5.3))\n",
    "print(math.floor(22.6))\n",
    "print(math.floor(10.0))"
   ]
  },
  {
   "cell_type": "code",
   "execution_count": 25,
   "id": "72adf500",
   "metadata": {},
   "outputs": [
    {
     "name": "stdout",
     "output_type": "stream",
     "text": [
      "362880\n",
      "720\n",
      "24\n"
     ]
    }
   ],
   "source": [
    "#Return factorial of a number\n",
    "print(math.factorial(9))\n",
    "print(math.factorial(6))\n",
    "print(math.factorial(4))"
   ]
  },
  {
   "cell_type": "code",
   "execution_count": 26,
   "id": "8a0ed4ea",
   "metadata": {},
   "outputs": [
    {
     "data": {
      "text/plain": [
       "3.141592653589793"
      ]
     },
     "execution_count": 26,
     "metadata": {},
     "output_type": "execute_result"
    }
   ],
   "source": [
    "math.pi"
   ]
  },
  {
   "cell_type": "code",
   "execution_count": 27,
   "id": "8f3845d0",
   "metadata": {},
   "outputs": [
    {
     "data": {
      "text/plain": [
       "2.718281828459045"
      ]
     },
     "execution_count": 27,
     "metadata": {},
     "output_type": "execute_result"
    }
   ],
   "source": [
    "math.e"
   ]
  },
  {
   "cell_type": "code",
   "execution_count": 12,
   "id": "1eada0a6",
   "metadata": {},
   "outputs": [],
   "source": [
    "import math as m"
   ]
  },
  {
   "cell_type": "code",
   "execution_count": 28,
   "id": "2e7d7fb3",
   "metadata": {},
   "outputs": [
    {
     "data": {
      "text/plain": [
       "3.141592653589793"
      ]
     },
     "execution_count": 28,
     "metadata": {},
     "output_type": "execute_result"
    }
   ],
   "source": [
    "m.pi"
   ]
  },
  {
   "cell_type": "code",
   "execution_count": 14,
   "id": "82dcb8b6",
   "metadata": {},
   "outputs": [
    {
     "name": "stdout",
     "output_type": "stream",
     "text": [
      "64.0\n"
     ]
    }
   ],
   "source": [
    "x = math.pow(4,3)\n",
    "print(x)"
   ]
  },
  {
   "cell_type": "markdown",
   "id": "50310fda",
   "metadata": {},
   "source": [
    "# random "
   ]
  },
  {
   "cell_type": "code",
   "execution_count": 15,
   "id": "a86f12b2",
   "metadata": {},
   "outputs": [],
   "source": [
    "import random "
   ]
  },
  {
   "cell_type": "code",
   "execution_count": 16,
   "id": "d9a1caa4",
   "metadata": {},
   "outputs": [
    {
     "name": "stdout",
     "output_type": "stream",
     "text": [
      "6\n"
     ]
    }
   ],
   "source": [
    "a = random.randint(1,100)\n",
    "print(a)"
   ]
  },
  {
   "cell_type": "code",
   "execution_count": 17,
   "id": "fe894ba8",
   "metadata": {},
   "outputs": [
    {
     "name": "stdout",
     "output_type": "stream",
     "text": [
      "wajir\n"
     ]
    }
   ],
   "source": [
    "a = ['king','wajir','chor','sipahi']\n",
    "b = random.choice(a)\n",
    "print(b)"
   ]
  },
  {
   "cell_type": "code",
   "execution_count": 18,
   "id": "04cd27f6",
   "metadata": {},
   "outputs": [
    {
     "name": "stdout",
     "output_type": "stream",
     "text": [
      "sipahi\n"
     ]
    }
   ],
   "source": [
    "a = ['king','king','king','king','king','king','wajir','chor','sipahi']\n",
    "b = random.choice(a)\n",
    "print(b)"
   ]
  }
 ],
 "metadata": {
  "kernelspec": {
   "display_name": "Python 3",
   "language": "python",
   "name": "python3"
  },
  "language_info": {
   "codemirror_mode": {
    "name": "ipython",
    "version": 3
   },
   "file_extension": ".py",
   "mimetype": "text/x-python",
   "name": "python",
   "nbconvert_exporter": "python",
   "pygments_lexer": "ipython3",
   "version": "3.11.0"
  },
  "vscode": {
   "interpreter": {
    "hash": "8234067497fbd6b95f87454e4c04d7068f4c853add15f694f8e3563fe9fbbd7f"
   }
  }
 },
 "nbformat": 4,
 "nbformat_minor": 5
}
