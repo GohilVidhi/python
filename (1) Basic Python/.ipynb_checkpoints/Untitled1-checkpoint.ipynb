{
 "cells": [
  {
   "cell_type": "code",
   "execution_count": 1,
   "id": "19b45e76",
   "metadata": {},
   "outputs": [],
   "source": [
    "# What is Python?\n",
    "# Python is a popular programming language. It was created by Guido van Rossum, and released in 1991."
   ]
  },
  {
   "cell_type": "code",
   "execution_count": 2,
   "id": "9374d6d5",
   "metadata": {},
   "outputs": [],
   "source": [
    "# It is used for:\n",
    "#-web development (server-side)\n",
    "#-software development"
   ]
  },
  {
   "cell_type": "code",
   "execution_count": 3,
   "id": "392f486d",
   "metadata": {},
   "outputs": [],
   "source": [
    "#  Python Features and Advantages"
   ]
  },
  {
   "cell_type": "code",
   "execution_count": 4,
   "id": "32ebceb6",
   "metadata": {},
   "outputs": [],
   "source": [
    "# 1. Easy to Code :\n",
    "#     -Python is a very high-level programming language, yet it is effortless to learn. \n",
    "#     -Anyone can learn to code in Python in just a few hours or a few days.\n",
    "#     -the basic Python syntax is very easy, as compared to other popular languages like C, C++, and Java. \n",
    "\n",
    "# 2. Easy to Read :\n",
    "#     -Python code looks like simple English words.\n",
    "    \n",
    "# 3. Free and Open-Source :\n",
    "#     -it is completely free to use, even for commercial purposes. \n",
    "#      It doesn't cost anything to download Python or to include it in your application. \n",
    "#      It can also be freely modified and re-distributed. \n",
    "#      Python can be downloaded from the official website = \"www.python.org/downloads\".\n",
    "     \n",
    "# 4. Interpreted :\n",
    "#     -When a programming language is interpreted, it means that the source code is executed line by line, and not all at once. \n",
    "#      Programming languages such as C++ or Java are not interpreted, and hence need to be compiled first to run them.\n",
    "#      There is no need to compile Python because it is processed at runtime by the interpreter.\n",
    "     \n",
    "# 5. Portable :\n",
    "#     -Python is portable in the sense that the same code can be used on different machines. \n",
    "#      Suppose you write a Python code on a Mac. If you want to run it on Windows or Linux later, you don’t have to make any \n",
    "#      changes to it.\n",
    "     \n",
    "# 6. Object-Oriented programing :\n",
    "#     -in Python, object-oriented Programming (OOPs) is a programming paradigm that uses objects and classes in programming. \n",
    "#      It aims to implement real-world entities like Polymorphism, Encapsulation, Inheritance, Data Abstraction.\n",
    "\n",
    "# 7. Expressive :\n",
    "#     -Python needs to use only a few lines of code to perform complex tasks. \n",
    "#      For example, to display Hello World, you simply need to type one line - print(“Hello World”). Other languages like Java  \n",
    "#      or C would take up multiple lines to execute this.\n",
    "\n",
    "# 8. Support for GUI (Graphical User Interface) :\n",
    "#     -One of the key aspects of any programming language is support for GUI. \n",
    "#      A user can easily interact with the software using a GUI. Python offers various toolkits, such as Tkinter, wxPython and \n",
    "#      JPython, which allows for GUI's easy and fast development."
   ]
  },
  {
   "cell_type": "code",
   "execution_count": 5,
   "id": "8d9af93d",
   "metadata": {},
   "outputs": [],
   "source": [
    "# Python Real-Time IDEs\n"
   ]
  },
  {
   "cell_type": "code",
   "execution_count": 6,
   "id": "2ca4bf51",
   "metadata": {},
   "outputs": [],
   "source": [
    "# * General Editors and IDEs(integreted development environment) with Python Support\n",
    "# --> Eclipse + PyDev\n",
    "#     Sublime Text\n",
    "#     Atom\n",
    "#     GNU Emacs\n",
    "#     Vi / Vim\n",
    "#     Visual Studio\n",
    "#     Visual Studio Code\n",
    "\n",
    "# * Python-Specific Editors and IDEs\n",
    "# --> PyCharm\n",
    "#     Spyder\n",
    "#     Thonny\n",
    "#     Jupyter Notebook"
   ]
  },
  {
   "cell_type": "code",
   "execution_count": null,
   "id": "c9e3bb8b",
   "metadata": {},
   "outputs": [],
   "source": []
  }
 ],
 "metadata": {
  "kernelspec": {
   "display_name": "Python 3 (ipykernel)",
   "language": "python",
   "name": "python3"
  },
  "language_info": {
   "codemirror_mode": {
    "name": "ipython",
    "version": 3
   },
   "file_extension": ".py",
   "mimetype": "text/x-python",
   "name": "python",
   "nbconvert_exporter": "python",
   "pygments_lexer": "ipython3",
   "version": "3.9.12"
  }
 },
 "nbformat": 4,
 "nbformat_minor": 5
}
