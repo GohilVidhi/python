{
 "cells": [
  {
   "cell_type": "markdown",
   "id": "5bfd111e",
   "metadata": {},
   "source": [
    "###### Recursion"
   ]
  },
  {
   "cell_type": "raw",
   "id": "16d5b526",
   "metadata": {},
   "source": [
    "Python also accepts function recursion, which means a defined function can call itself.\n",
    "Recursion is a common mathematical and programming concept. It means that a function calls itself. This has the benefit of meaning that you can loop through data to reach a result."
   ]
  },
  {
   "cell_type": "raw",
   "id": "db5013b3",
   "metadata": {},
   "source": [
    "The advantages of the recursive function are:\n",
    "    1. By using recursive, we can reduce the length of the code.\n",
    "    2. The readability of code improves due to code reduction.\n",
    "    3. Useful for solving a complex problem\n",
    "\n",
    "The disadvantage of the recursive function:\n",
    "    1. The recursive function takes more memory and time for execution.\n",
    "    2. Debugging is not easy for the recursive function."
   ]
  },
  {
   "cell_type": "code",
   "execution_count": 3,
   "id": "e55828f1",
   "metadata": {},
   "outputs": [
    {
     "name": "stdout",
     "output_type": "stream",
     "text": [
      "factorial of a number is: 120\n"
     ]
    }
   ],
   "source": [
    "def factorial(no):\n",
    "    if no == 0:\n",
    "        return 1\n",
    "    else:\n",
    "        x = no * factorial(no - 1)\n",
    "        return x\n",
    "\n",
    "print(\"factorial of a number is:\", factorial(5))"
   ]
  },
  {
   "cell_type": "code",
   "execution_count": 4,
   "id": "e280bd24",
   "metadata": {},
   "outputs": [
    {
     "name": "stdout",
     "output_type": "stream",
     "text": [
      "1\n",
      "3\n",
      "6\n",
      "10\n",
      "15\n",
      "21\n"
     ]
    },
    {
     "data": {
      "text/plain": [
       "21"
      ]
     },
     "execution_count": 4,
     "metadata": {},
     "output_type": "execute_result"
    }
   ],
   "source": [
    "def recursion(k):\n",
    "    if(k > 0):\n",
    "        result = k + recursion(k - 1)\n",
    "        print(result)\n",
    "    else:\n",
    "        result = 0\n",
    "    return result\n",
    "\n",
    "recursion(6)"
   ]
  },
  {
   "cell_type": "markdown",
   "id": "1f96bffe",
   "metadata": {},
   "source": [
    "# Anonymous/Lambda Function"
   ]
  },
  {
   "cell_type": "raw",
   "id": "15f374c2",
   "metadata": {},
   "source": [
    "Sometimes we need to declare a function without any name. The nameless property function is called an anonymous function or lambda function.\n",
    "Normal function is declared using the def function. Whereas the anonymous function is declared using the lambda keyword.\n",
    "A lambda function can take any number of arguments, but can only have one expression."
   ]
  },
  {
   "cell_type": "raw",
   "id": "d4eb756c",
   "metadata": {},
   "source": [
    "Syntax :\n",
    "lambda arguments : expression"
   ]
  },
  {
   "cell_type": "code",
   "execution_count": 14,
   "id": "bc3bb0a0",
   "metadata": {},
   "outputs": [
    {
     "name": "stdout",
     "output_type": "stream",
     "text": [
      "15\n"
     ]
    }
   ],
   "source": [
    "# Add 10 to argument a.\n",
    "x = lambda a : a + 10  \n",
    "print(x(5))"
   ]
  },
  {
   "cell_type": "code",
   "execution_count": 15,
   "id": "ce2a4286",
   "metadata": {},
   "outputs": [
    {
     "name": "stdout",
     "output_type": "stream",
     "text": [
      "30\n"
     ]
    }
   ],
   "source": [
    "# Multiply argument a with argument b.\n",
    "x = lambda a, b : a * b\n",
    "print(x(5, 6))"
   ]
  },
  {
   "cell_type": "code",
   "execution_count": 16,
   "id": "93d94828",
   "metadata": {},
   "outputs": [
    {
     "name": "stdout",
     "output_type": "stream",
     "text": [
      "13\n"
     ]
    }
   ],
   "source": [
    "# Summarize argument a, b, and c\n",
    "x = lambda a, b, c : a + b + c\n",
    "print(x(5, 6, 2))"
   ]
  },
  {
   "cell_type": "markdown",
   "id": "c7166fc9",
   "metadata": {},
   "source": [
    "## filter() function"
   ]
  },
  {
   "cell_type": "raw",
   "id": "c5c96d85",
   "metadata": {},
   "source": [
    "filter function will return only true conditions\n",
    "\n",
    "syntax :\n",
    "filter(funtion, sequence)\n",
    "\n",
    "* function – Function argument is responsible for performing condition checking.\n",
    "* sequence – Sequence argument can be anything like list, tuple, string."
   ]
  },
  {
   "cell_type": "code",
   "execution_count": 34,
   "id": "6d6111bf",
   "metadata": {},
   "outputs": [
    {
     "name": "stdout",
     "output_type": "stream",
     "text": [
      "[1, 3, 5, 7]\n"
     ]
    }
   ],
   "source": [
    "a = [1,2,3,4,5,6,7,8]\n",
    "\n",
    "odd = list(filter(lambda x : x if x%2!=0 else '',a))\n",
    "\n",
    "print(odd)"
   ]
  },
  {
   "cell_type": "code",
   "execution_count": 36,
   "id": "3be64ec3",
   "metadata": {},
   "outputs": [
    {
     "name": "stdout",
     "output_type": "stream",
     "text": [
      "[6, 7, 8]\n"
     ]
    }
   ],
   "source": [
    "a = [1,2,3,4,5,6,7,8]\n",
    "\n",
    "b = list(filter(lambda x : x if x>5 else '',a))\n",
    "\n",
    "print(b)"
   ]
  },
  {
   "cell_type": "markdown",
   "id": "d3477941",
   "metadata": {},
   "source": [
    "## map() function"
   ]
  },
  {
   "cell_type": "raw",
   "id": "69faf876",
   "metadata": {},
   "source": [
    "map function works wilth list and it will apply any function to all element of list\n",
    "\n",
    "syntex :\n",
    "map(function,sequence)"
   ]
  },
  {
   "cell_type": "code",
   "execution_count": 30,
   "id": "8500e6d3",
   "metadata": {},
   "outputs": [
    {
     "name": "stdout",
     "output_type": "stream",
     "text": [
      "[2, 4, 6, 8, 10, 12]\n"
     ]
    }
   ],
   "source": [
    "a = [1,2,3,4,5,6]\n",
    "\n",
    "b = list(map(lambda x :x*2,a))\n",
    "print(b)"
   ]
  },
  {
   "cell_type": "code",
   "execution_count": 32,
   "id": "e258f44c",
   "metadata": {},
   "outputs": [
    {
     "name": "stdout",
     "output_type": "stream",
     "text": [
      "['RAM', 'SHYAM', 'KRISHNA', 'SHIV']\n"
     ]
    }
   ],
   "source": [
    "a = ['ram','shyam','krishna','shiv']\n",
    "\n",
    "b = list(map(lambda x:x.upper(),a))\n",
    "print(b)"
   ]
  },
  {
   "cell_type": "code",
   "execution_count": 31,
   "id": "ede5b44a",
   "metadata": {},
   "outputs": [
    {
     "name": "stdout",
     "output_type": "stream",
     "text": [
      "Cube values are: [8, 27, 64, 512, 729]\n"
     ]
    }
   ],
   "source": [
    "list1 = [2, 3, 4, 8, 9]\n",
    "list2 = list(map(lambda x: x*x*x, list1))\n",
    "print(\"Cube values are:\", list2)"
   ]
  },
  {
   "cell_type": "code",
   "execution_count": 33,
   "id": "384acaa3",
   "metadata": {},
   "outputs": [
    {
     "name": "stdout",
     "output_type": "stream",
     "text": [
      "[1, ' ', 3, ' ', 5, ' ', 7, ' ']\n"
     ]
    }
   ],
   "source": [
    "a = [1,2,3,4,5,6,7,8]\n",
    "\n",
    "odd = list(map(lambda x : x if x%2 != 0 else ' ',a))\n",
    "\n",
    "print(odd)"
   ]
  }
 ],
 "metadata": {
  "kernelspec": {
   "display_name": "Python 3 (ipykernel)",
   "language": "python",
   "name": "python3"
  },
  "language_info": {
   "codemirror_mode": {
    "name": "ipython",
    "version": 3
   },
   "file_extension": ".py",
   "mimetype": "text/x-python",
   "name": "python",
   "nbconvert_exporter": "python",
   "pygments_lexer": "ipython3",
   "version": "3.9.12"
  }
 },
 "nbformat": 4,
 "nbformat_minor": 5
}
