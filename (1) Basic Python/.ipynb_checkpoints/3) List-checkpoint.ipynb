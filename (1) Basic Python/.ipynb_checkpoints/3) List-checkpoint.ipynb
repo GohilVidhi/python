{
 "cells": [
  {
   "cell_type": "markdown",
   "id": "9e57b846",
   "metadata": {},
   "source": [
    "# List"
   ]
  },
  {
   "cell_type": "code",
   "execution_count": 1,
   "id": "46d6420e",
   "metadata": {},
   "outputs": [],
   "source": [
    "# LIst are used to store multiple items in a single variable.\n",
    "# created usind \"[]\".\n",
    "# Duplication allow\n",
    "# Mutable (Changeble)\n",
    "# Indexing Supporting"
   ]
  },
  {
   "cell_type": "markdown",
   "id": "be81c72f",
   "metadata": {},
   "source": [
    "# List : Sequntial Datatype"
   ]
  },
  {
   "cell_type": "code",
   "execution_count": 2,
   "id": "16281dc7",
   "metadata": {},
   "outputs": [
    {
     "name": "stdout",
     "output_type": "stream",
     "text": [
      "[1, 3.14, True, False, 'Tushar', None]\n"
     ]
    }
   ],
   "source": [
    "li = [1,3.14,True,False,\"Tushar\",None]\n",
    "print(li)"
   ]
  },
  {
   "cell_type": "code",
   "execution_count": 3,
   "id": "09382288",
   "metadata": {},
   "outputs": [
    {
     "name": "stdout",
     "output_type": "stream",
     "text": [
      "[50, [8, 7.5], (5, 'Dvs'), {True, 3.14, 'Anand'}, {'Fruit': 'Apple'}]\n"
     ]
    }
   ],
   "source": [
    "li = [50,[8,7.5],(5,\"Dvs\"),{3.14,True,\"Anand\"},{\"Fruit\":\"Apple\"}]\n",
    "print(li)"
   ]
  },
  {
   "cell_type": "markdown",
   "id": "98bcb4e2",
   "metadata": {},
   "source": [
    "# Indexing"
   ]
  },
  {
   "cell_type": "code",
   "execution_count": 4,
   "id": "4f2f5ace",
   "metadata": {
    "scrolled": true
   },
   "outputs": [
    {
     "name": "stdout",
     "output_type": "stream",
     "text": [
      "1\n",
      "None\n",
      "[True, False, 'Tushar']\n",
      "[True, False, 'Tushar', None]\n",
      "[1, 3.14, True, False, 'Tushar']\n",
      "[1, 3.14, True, False, 'Tushar', None]\n",
      "[None, 'Tushar', False, True, 3.14, 1]\n"
     ]
    }
   ],
   "source": [
    "li = [1,3.14,True,False,\"Tushar\",None]\n",
    "print(li[0])\n",
    "print(li[-1])\n",
    "print(li[2:5])\n",
    "#[Start:Stop:Step]\n",
    "#[0:(n-1):1]\n",
    "print(li[2:])\n",
    "print(li[:5])\n",
    "print(li[:])\n",
    "print(li[::-1])"
   ]
  },
  {
   "cell_type": "code",
   "execution_count": 5,
   "id": "f831d037",
   "metadata": {
    "scrolled": true
   },
   "outputs": [
    {
     "name": "stdout",
     "output_type": "stream",
     "text": [
      "[1, 3.14, 3.5, False, 'Tushar', None]\n"
     ]
    }
   ],
   "source": [
    "li = [1,3.14,True,False,\"Tushar\",None]\n",
    "li[2]=3.5\n",
    "print(li)"
   ]
  },
  {
   "cell_type": "code",
   "execution_count": 6,
   "id": "5323a800",
   "metadata": {
    "scrolled": true
   },
   "outputs": [
    {
     "name": "stdout",
     "output_type": "stream",
     "text": [
      "2\n",
      "[1, 2]\n",
      "[2, 3]\n"
     ]
    }
   ],
   "source": [
    "li = [1,5j,[1,2,3],[4,5,6]]\n",
    "print(li[2][1])\n",
    "print(li[2][:2])\n",
    "print(li[2][1:])"
   ]
  },
  {
   "cell_type": "markdown",
   "id": "e116f8c0",
   "metadata": {},
   "source": [
    "# Functions"
   ]
  },
  {
   "cell_type": "code",
   "execution_count": 1,
   "id": "be8f1a92",
   "metadata": {},
   "outputs": [
    {
     "data": {
      "text/plain": [
       "[1, 3.14, 3j, 'string', True, '5', False, None]"
      ]
     },
     "execution_count": 1,
     "metadata": {},
     "output_type": "execute_result"
    }
   ],
   "source": [
    "li = [1,3.14,3j,'string',True,False,None]\n",
    "li.insert(5,'5')\n",
    "li"
   ]
  },
  {
   "cell_type": "code",
   "execution_count": 8,
   "id": "54772dbd",
   "metadata": {},
   "outputs": [
    {
     "data": {
      "text/plain": [
       "[1, 3j, 'string', True, False, None]"
      ]
     },
     "execution_count": 8,
     "metadata": {},
     "output_type": "execute_result"
    }
   ],
   "source": [
    "li = [1,3.14,3j,'string',True,False,None]\n",
    "li.remove(3.14)\n",
    "li"
   ]
  },
  {
   "cell_type": "code",
   "execution_count": 9,
   "id": "d35f4b31",
   "metadata": {},
   "outputs": [
    {
     "data": {
      "text/plain": [
       "[None, False, True, 'string', 3j, 3.14, 1]"
      ]
     },
     "execution_count": 9,
     "metadata": {},
     "output_type": "execute_result"
    }
   ],
   "source": [
    "li = [1,3.14,3j,'string',True,False,None]\n",
    "li.reverse()\n",
    "li"
   ]
  },
  {
   "cell_type": "code",
   "execution_count": 10,
   "id": "3e15392e",
   "metadata": {},
   "outputs": [
    {
     "data": {
      "text/plain": [
       "[1, 3.14, 3j, 'string', 'ram']"
      ]
     },
     "execution_count": 10,
     "metadata": {},
     "output_type": "execute_result"
    }
   ],
   "source": [
    "li = [1,3.14,3j,'string']\n",
    "li.append(\"ram\")\n",
    "li"
   ]
  },
  {
   "cell_type": "code",
   "execution_count": 11,
   "id": "b2d463ce",
   "metadata": {},
   "outputs": [
    {
     "data": {
      "text/plain": [
       "[1, 3.14, 3j, 'string', True, False, None]"
      ]
     },
     "execution_count": 11,
     "metadata": {},
     "output_type": "execute_result"
    }
   ],
   "source": [
    "li1 = [1,3.14,3j,'string']\n",
    "li2 = [True,False,None]\n",
    "li1.extend(li2)\n",
    "li1"
   ]
  },
  {
   "cell_type": "code",
   "execution_count": 12,
   "id": "5f56cf54",
   "metadata": {},
   "outputs": [
    {
     "data": {
      "text/plain": [
       "[1, 3.14, 3j, 'string', True, False, None]"
      ]
     },
     "execution_count": 12,
     "metadata": {},
     "output_type": "execute_result"
    }
   ],
   "source": [
    "li1 = [1,3.14,3j,'string']\n",
    "li2 = [True,False,None]\n",
    "li3 = li1+li2\n",
    "li3"
   ]
  },
  {
   "cell_type": "code",
   "execution_count": 13,
   "id": "ca16a32c",
   "metadata": {},
   "outputs": [
    {
     "data": {
      "text/plain": [
       "[1, 3.14, 3j]"
      ]
     },
     "execution_count": 13,
     "metadata": {},
     "output_type": "execute_result"
    }
   ],
   "source": [
    "li = [1,3.14,3j,'string']\n",
    "li.pop()\n",
    "li"
   ]
  },
  {
   "cell_type": "code",
   "execution_count": 14,
   "id": "4e845798",
   "metadata": {},
   "outputs": [
    {
     "data": {
      "text/plain": [
       "[3.14, 3j, 'string']"
      ]
     },
     "execution_count": 14,
     "metadata": {},
     "output_type": "execute_result"
    }
   ],
   "source": [
    "li = [1,3.14,3j,'string']\n",
    "li.pop(0)\n",
    "li"
   ]
  },
  {
   "cell_type": "code",
   "execution_count": 15,
   "id": "8c2cc707",
   "metadata": {},
   "outputs": [
    {
     "data": {
      "text/plain": [
       "[1, 3.14, 'string']"
      ]
     },
     "execution_count": 15,
     "metadata": {},
     "output_type": "execute_result"
    }
   ],
   "source": [
    "li = [1,3.14,3j,'string']\n",
    "li.pop(-2)\n",
    "li"
   ]
  },
  {
   "cell_type": "code",
   "execution_count": 16,
   "id": "ca116a50",
   "metadata": {},
   "outputs": [
    {
     "data": {
      "text/plain": [
       "[1, 2, 3, 4, 6, 7, 8, 9]"
      ]
     },
     "execution_count": 16,
     "metadata": {},
     "output_type": "execute_result"
    }
   ],
   "source": [
    "li = [3,4,6,9,7,1,2,8]\n",
    "li.sort()\n",
    "li"
   ]
  },
  {
   "cell_type": "code",
   "execution_count": 17,
   "id": "1b200560",
   "metadata": {},
   "outputs": [
    {
     "data": {
      "text/plain": [
       "[9, 8, 7, 6, 4, 3, 2, 1]"
      ]
     },
     "execution_count": 17,
     "metadata": {},
     "output_type": "execute_result"
    }
   ],
   "source": [
    "li = [3,4,6,9,7,1,2,8]\n",
    "li.sort(reverse=True)\n",
    "li"
   ]
  },
  {
   "cell_type": "code",
   "execution_count": 18,
   "id": "2ef41889",
   "metadata": {},
   "outputs": [
    {
     "name": "stdout",
     "output_type": "stream",
     "text": [
      "D-i-v-y-e-s-h\n"
     ]
    }
   ],
   "source": [
    "li=['D','i','v','y','e','s','h']\n",
    "print(\"-\".join(li))"
   ]
  }
 ],
 "metadata": {
  "kernelspec": {
   "display_name": "Python 3 (ipykernel)",
   "language": "python",
   "name": "python3"
  },
  "language_info": {
   "codemirror_mode": {
    "name": "ipython",
    "version": 3
   },
   "file_extension": ".py",
   "mimetype": "text/x-python",
   "name": "python",
   "nbconvert_exporter": "python",
   "pygments_lexer": "ipython3",
   "version": "3.9.12"
  }
 },
 "nbformat": 4,
 "nbformat_minor": 5
}
