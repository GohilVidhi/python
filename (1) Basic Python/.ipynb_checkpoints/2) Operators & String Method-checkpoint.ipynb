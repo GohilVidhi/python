{
 "cells": [
  {
   "cell_type": "code",
   "execution_count": null,
   "id": "98dbe232",
   "metadata": {},
   "outputs": [],
   "source": [
    "# Python Operators\n",
    "\n",
    "# Python has seven types of operators that we can use to perform different operation and produce a result.\n",
    "# 1.\tArithmetic operator\n",
    "# 2.\tRelational operators\n",
    "# 3.\tAssignment operators\n",
    "# 4.\tLogical operators\n",
    "# 5.\tMembership operators\n",
    "# 6.\tIdentity operators\n",
    "# 7.\tBitwise operators\n"
   ]
  },
  {
   "cell_type": "markdown",
   "id": "88fd5c61",
   "metadata": {},
   "source": [
    "# Arithmatic Operater"
   ]
  },
  {
   "cell_type": "code",
   "execution_count": 43,
   "id": "2cc4a86b",
   "metadata": {},
   "outputs": [
    {
     "name": "stdout",
     "output_type": "stream",
     "text": [
      "68.25\n"
     ]
    }
   ],
   "source": [
    "a = 12.25\n",
    "b = 56\n",
    "print(a+b)"
   ]
  },
  {
   "cell_type": "code",
   "execution_count": 44,
   "id": "d5b49c12",
   "metadata": {},
   "outputs": [
    {
     "name": "stdout",
     "output_type": "stream",
     "text": [
      "-8.0\n"
     ]
    }
   ],
   "source": [
    "a = 90.00\n",
    "h = 98\n",
    "print(a-h)"
   ]
  },
  {
   "cell_type": "code",
   "execution_count": 46,
   "id": "1a9be2bc",
   "metadata": {},
   "outputs": [
    {
     "name": "stdout",
     "output_type": "stream",
     "text": [
      "450\n"
     ]
    }
   ],
   "source": [
    "a = 10\n",
    "b = 45\n",
    "print(a*b)"
   ]
  },
  {
   "cell_type": "code",
   "execution_count": 50,
   "id": "7f130da3",
   "metadata": {},
   "outputs": [
    {
     "name": "stdout",
     "output_type": "stream",
     "text": [
      "2\n"
     ]
    }
   ],
   "source": [
    "a = 10\n",
    "b = 4\n",
    "print(a//b)"
   ]
  },
  {
   "cell_type": "code",
   "execution_count": 51,
   "id": "d5bf8508",
   "metadata": {},
   "outputs": [
    {
     "name": "stdout",
     "output_type": "stream",
     "text": [
      "0\n"
     ]
    }
   ],
   "source": [
    "a = 20\n",
    "b = 4\n",
    "print(a % b)"
   ]
  },
  {
   "cell_type": "code",
   "execution_count": 54,
   "id": "682fb60f",
   "metadata": {},
   "outputs": [
    {
     "name": "stdout",
     "output_type": "stream",
     "text": [
      "6561\n"
     ]
    }
   ],
   "source": [
    "# Exponent\n",
    "a = 8\n",
    "b = 3\n",
    "print(b**a)\n",
    "# 8*8*8"
   ]
  },
  {
   "cell_type": "code",
   "execution_count": 7,
   "id": "67cb5b45",
   "metadata": {},
   "outputs": [
    {
     "name": "stdout",
     "output_type": "stream",
     "text": [
      "2\n"
     ]
    }
   ],
   "source": [
    "# floor division\n",
    "a = 10\n",
    "b = 4\n",
    "print(a // b)"
   ]
  },
  {
   "cell_type": "markdown",
   "id": "769e7a14",
   "metadata": {},
   "source": [
    "# Assignment Operator"
   ]
  },
  {
   "cell_type": "code",
   "execution_count": 56,
   "id": "1b0a2945",
   "metadata": {},
   "outputs": [
    {
     "name": "stdout",
     "output_type": "stream",
     "text": [
      "22\n"
     ]
    }
   ],
   "source": [
    "x = 12\n",
    "x += 10\n",
    "print(x)"
   ]
  },
  {
   "cell_type": "code",
   "execution_count": 57,
   "id": "63220e2b",
   "metadata": {},
   "outputs": [
    {
     "name": "stdout",
     "output_type": "stream",
     "text": [
      "0\n"
     ]
    }
   ],
   "source": [
    "x = 10\n",
    "# x = x - 5\n",
    "x -= 10\n",
    "print(x)"
   ]
  },
  {
   "cell_type": "code",
   "execution_count": 58,
   "id": "36a78c3f",
   "metadata": {},
   "outputs": [
    {
     "name": "stdout",
     "output_type": "stream",
     "text": [
      "450\n"
     ]
    }
   ],
   "source": [
    "x = 10\n",
    "# x = 10 * 2\n",
    "x *= 45\n",
    "print(x)"
   ]
  },
  {
   "cell_type": "code",
   "execution_count": 60,
   "id": "c8893b55",
   "metadata": {},
   "outputs": [
    {
     "name": "stdout",
     "output_type": "stream",
     "text": [
      "3\n"
     ]
    }
   ],
   "source": [
    "x = 10\n",
    "# x = x / 2\n",
    "x //= 3\n",
    "print(x)"
   ]
  },
  {
   "cell_type": "code",
   "execution_count": 61,
   "id": "9cdf4581",
   "metadata": {},
   "outputs": [
    {
     "name": "stdout",
     "output_type": "stream",
     "text": [
      "4\n"
     ]
    }
   ],
   "source": [
    "x = 11\n",
    "# x = x % 5\n",
    "x %= 7\n",
    "print(x)"
   ]
  },
  {
   "cell_type": "code",
   "execution_count": 13,
   "id": "66b073a1",
   "metadata": {},
   "outputs": [
    {
     "name": "stdout",
     "output_type": "stream",
     "text": [
      "4\n"
     ]
    }
   ],
   "source": [
    "x = 12\n",
    "# x = x // 3\n",
    "x //= 3\n",
    "print(x)"
   ]
  },
  {
   "cell_type": "markdown",
   "id": "ef4182ee",
   "metadata": {},
   "source": [
    "# Relational (comparison) operators"
   ]
  },
  {
   "cell_type": "code",
   "execution_count": null,
   "id": "bf63d739",
   "metadata": {},
   "outputs": [],
   "source": [
    "# Relational operators are also called comparison operators. \n",
    "# It performs a comparison between two values.\n",
    "# It returns a boolean  True or False depending upon the result of the comparison."
   ]
  },
  {
   "cell_type": "code",
   "execution_count": 1,
   "id": "43c91564",
   "metadata": {},
   "outputs": [
    {
     "name": "stdout",
     "output_type": "stream",
     "text": [
      "True\n"
     ]
    }
   ],
   "source": [
    "# comparison operators\n",
    "\n",
    "a = (56<78)\n",
    "# a = (56>78)\n",
    "# a = (56<=78)\n",
    "# a = (56>=78)\n",
    "# a = (56==78)\n",
    "# a = (56!=78)\n",
    "print(a)\n"
   ]
  },
  {
   "cell_type": "markdown",
   "id": "4b278d43",
   "metadata": {},
   "source": [
    "# Logical operators"
   ]
  },
  {
   "cell_type": "code",
   "execution_count": null,
   "id": "5120f0b3",
   "metadata": {},
   "outputs": [],
   "source": [
    "# Logical operators are useful when checking a condition is true or not. Python has three logical operators. \n",
    "# All logical operator returns a boolean value True or False depending on the condition in which it is used."
   ]
  },
  {
   "cell_type": "code",
   "execution_count": null,
   "id": "f2050c83",
   "metadata": {},
   "outputs": [],
   "source": [
    "# there are 3 types of logical operators\n",
    "# 1.AND\n",
    "# 2.OR\n",
    "# 3.NOT"
   ]
  },
  {
   "cell_type": "code",
   "execution_count": null,
   "id": "2683be7f",
   "metadata": {},
   "outputs": [],
   "source": [
    "x = 5\n",
    "\n",
    "print(x > 3 or x < 4)\n",
    "\n",
    "# returns True because one of the conditions are true (5 is greater than 3, but 5 is not less than 4)\n"
   ]
  },
  {
   "cell_type": "code",
   "execution_count": null,
   "id": "44c7ce5d",
   "metadata": {},
   "outputs": [],
   "source": [
    "x = 5\n",
    "\n",
    "print(not(x > 3 and x < 10))\n",
    "\n",
    "# returns False because not is used to reverse the result\n"
   ]
  },
  {
   "cell_type": "code",
   "execution_count": null,
   "id": "b8d406c6",
   "metadata": {},
   "outputs": [],
   "source": [
    "x = 5\n",
    "\n",
    "print(x > 3 and x < 10)\n",
    "\n",
    "# returns True because 5 is greater than 3 AND 5 is less than 10\n"
   ]
  },
  {
   "cell_type": "code",
   "execution_count": null,
   "id": "10245e3a",
   "metadata": {},
   "outputs": [],
   "source": [
    "# Python program to demonstrate\n",
    "# logical and operator\n",
    " \n",
    "a = 10\n",
    "b = 12\n",
    "c = 0\n",
    " \n",
    "if a and b and c:\n",
    "    print(\"All the numbers have boolean value as True\")\n",
    "else:\n",
    "    print(\"Atleast one number has boolean value as False\")\n"
   ]
  },
  {
   "cell_type": "code",
   "execution_count": null,
   "id": "ab4dd978",
   "metadata": {},
   "outputs": [],
   "source": [
    "# Python program to demonstrate\n",
    "# logical and operator\n",
    " \n",
    "a = 10\n",
    "b = 12\n",
    "c = 0\n",
    " \n",
    "if a or b or c:\n",
    "    print(\"Atleast one number has boolean value as True\")\n",
    "else:\n",
    "    print(\"All the numbers have boolean value as False\")\n"
   ]
  },
  {
   "cell_type": "code",
   "execution_count": null,
   "id": "32fe2b94",
   "metadata": {},
   "outputs": [],
   "source": []
  },
  {
   "cell_type": "markdown",
   "id": "e9f1a01f",
   "metadata": {},
   "source": [
    "# Identity Operators"
   ]
  },
  {
   "cell_type": "raw",
   "id": "cd0c005b",
   "metadata": {},
   "source": [
    "is =  Returns True if both variables are the same object\n",
    "is not = Returns True if both variables are not the same object"
   ]
  },
  {
   "cell_type": "code",
   "execution_count": 63,
   "id": "7e270c2a",
   "metadata": {},
   "outputs": [
    {
     "name": "stdout",
     "output_type": "stream",
     "text": [
      "True\n",
      "False\n",
      "False\n"
     ]
    }
   ],
   "source": [
    "x = [\"apple\", \"banana\"]\n",
    "y = [\"apple\", \"banana\"]\n",
    "z = x \n",
    "\n",
    "print(x is z)\n",
    "print(x is y)\n",
    "print(x != y)"
   ]
  },
  {
   "cell_type": "code",
   "execution_count": 64,
   "id": "4a1f7fc8",
   "metadata": {},
   "outputs": [
    {
     "name": "stdout",
     "output_type": "stream",
     "text": [
      "False\n",
      "True\n",
      "True\n"
     ]
    }
   ],
   "source": [
    "x = [\"apple\", \"banana\"]\n",
    "y = [\"apple\", \"banana\"]\n",
    "z = x\n",
    "\n",
    "print(x is not z)\n",
    "print(x is not y)\n",
    "print(x == y)"
   ]
  },
  {
   "cell_type": "markdown",
   "id": "399e4b67",
   "metadata": {},
   "source": [
    "# Membership Operators"
   ]
  },
  {
   "cell_type": "raw",
   "id": "38c2d4ac",
   "metadata": {},
   "source": [
    "in =  Returns True if a sequence with the specified value is present in the object\n",
    "not in = Returns True if a sequence with the specified value is not present in the object"
   ]
  },
  {
   "cell_type": "code",
   "execution_count": 65,
   "id": "47da58cc",
   "metadata": {},
   "outputs": [
    {
     "name": "stdout",
     "output_type": "stream",
     "text": [
      "True\n",
      "True\n"
     ]
    }
   ],
   "source": [
    "x = [\"apple\", \"banana\",\"pineapple\"]\n",
    "\n",
    "print(\"banana\" in x)\n",
    "print(\"pineapple\" in x)"
   ]
  },
  {
   "cell_type": "code",
   "execution_count": 17,
   "id": "58360bdf",
   "metadata": {},
   "outputs": [
    {
     "name": "stdout",
     "output_type": "stream",
     "text": [
      "True\n",
      "False\n"
     ]
    }
   ],
   "source": [
    "x = [\"apple\", \"banana\"]\n",
    "\n",
    "print(\"pineapple\" not in x)\n",
    "print(\"banana\" not in x)"
   ]
  },
  {
   "cell_type": "markdown",
   "id": "11cf60b9",
   "metadata": {},
   "source": [
    "# string method"
   ]
  },
  {
   "cell_type": "code",
   "execution_count": 18,
   "id": "860da583",
   "metadata": {},
   "outputs": [
    {
     "name": "stdout",
     "output_type": "stream",
     "text": [
      "p\n",
      "a\n",
      "!\n"
     ]
    }
   ],
   "source": [
    "a = \"pathshala!\"\n",
    "print(a[0])\n",
    "print(a[1])\n",
    "print(a[-1])"
   ]
  },
  {
   "cell_type": "code",
   "execution_count": 66,
   "id": "2875a4a0",
   "metadata": {},
   "outputs": [
    {
     "name": "stdout",
     "output_type": "stream",
     "text": [
      "17\n"
     ]
    }
   ],
   "source": [
    "a = \"Hello, Pathshala!\"\n",
    "# print(len(a))\n",
    "print(len(a))"
   ]
  },
  {
   "cell_type": "code",
   "execution_count": 68,
   "id": "e2866817",
   "metadata": {},
   "outputs": [
    {
     "name": "stdout",
     "output_type": "stream",
     "text": [
      "True\n",
      "True\n"
     ]
    }
   ],
   "source": [
    "a = \"how are you??\"\n",
    "print('a' in a)\n",
    "print('z' not in a)"
   ]
  },
  {
   "cell_type": "code",
   "execution_count": 71,
   "id": "f61d3b28",
   "metadata": {},
   "outputs": [
    {
     "name": "stdout",
     "output_type": "stream",
     "text": [
      "co\n",
      "g c\n",
      "codin\n",
      "coding cloud\n",
      "ci\n",
      "lou\n",
      "duolc gnidoc\n"
     ]
    }
   ],
   "source": [
    "a = \"coding cloud\"\n",
    "print(a[0:2])\n",
    "print(a[5:8])\n",
    "print(a[:5])\n",
    "print(a[0:])\n",
    "print(a[0:5:3])\n",
    "print(a[-4:-1])\n",
    "print(a[::-1])"
   ]
  },
  {
   "cell_type": "code",
   "execution_count": 22,
   "id": "8291bdfb",
   "metadata": {},
   "outputs": [
    {
     "name": "stdout",
     "output_type": "stream",
     "text": [
      "CODING CLOUD!!\n"
     ]
    }
   ],
   "source": [
    "a = \"Coding Cloud!!\"\n",
    "print(a.upper())"
   ]
  },
  {
   "cell_type": "code",
   "execution_count": 23,
   "id": "b3f61ba7",
   "metadata": {},
   "outputs": [
    {
     "name": "stdout",
     "output_type": "stream",
     "text": [
      "coding cloud!!\n"
     ]
    }
   ],
   "source": [
    "a = \"Coding Cloud!!\"\n",
    "print(a.lower())"
   ]
  },
  {
   "cell_type": "code",
   "execution_count": 24,
   "id": "45f34176",
   "metadata": {},
   "outputs": [
    {
     "name": "stdout",
     "output_type": "stream",
     "text": [
      "True\n"
     ]
    }
   ],
   "source": [
    "a = \"CODING CLOUD!!\"\n",
    "print(a.isupper())"
   ]
  },
  {
   "cell_type": "code",
   "execution_count": 25,
   "id": "bf8541aa",
   "metadata": {},
   "outputs": [
    {
     "name": "stdout",
     "output_type": "stream",
     "text": [
      "False\n"
     ]
    }
   ],
   "source": [
    "a = \"COdiNG CLOUD!!\"\n",
    "print(a.isupper())"
   ]
  },
  {
   "cell_type": "code",
   "execution_count": 26,
   "id": "8f901a40",
   "metadata": {},
   "outputs": [
    {
     "name": "stdout",
     "output_type": "stream",
     "text": [
      "True\n"
     ]
    }
   ],
   "source": [
    "a = \"coding cloud!!\"\n",
    "print(a.islower())"
   ]
  },
  {
   "cell_type": "code",
   "execution_count": 27,
   "id": "e3c6e892",
   "metadata": {},
   "outputs": [
    {
     "name": "stdout",
     "output_type": "stream",
     "text": [
      "False\n"
     ]
    }
   ],
   "source": [
    "a = \"Coding Cloud!!\"\n",
    "print(a.islower())"
   ]
  },
  {
   "cell_type": "code",
   "execution_count": 28,
   "id": "94d94471",
   "metadata": {},
   "outputs": [
    {
     "name": "stdout",
     "output_type": "stream",
     "text": [
      "Hiiii, How Are you.\n"
     ]
    }
   ],
   "source": [
    "a = \"Hello, How Are you.\"\n",
    "print(a.replace(\"Hello\",\"Hiiii\"))"
   ]
  },
  {
   "cell_type": "code",
   "execution_count": 29,
   "id": "273dba64",
   "metadata": {},
   "outputs": [
    {
     "name": "stdout",
     "output_type": "stream",
     "text": [
      "['Hello', 'How', 'Are', 'you']\n"
     ]
    }
   ],
   "source": [
    "a = \"Hello How Are you\"\n",
    "b = a.split(\" \")\n",
    "print(b)"
   ]
  },
  {
   "cell_type": "code",
   "execution_count": 30,
   "id": "b245eed7",
   "metadata": {},
   "outputs": [
    {
     "name": "stdout",
     "output_type": "stream",
     "text": [
      "my name is helly\n",
      "my_name_is_helly\n"
     ]
    }
   ],
   "source": [
    "a = (\"my\",\"name\",\"is\", \"helly\")\n",
    "b = \"_\"\n",
    "print(\" \".join(a))\n",
    "print(b.join(a))"
   ]
  },
  {
   "cell_type": "code",
   "execution_count": 31,
   "id": "f507f8ea",
   "metadata": {},
   "outputs": [
    {
     "name": "stdout",
     "output_type": "stream",
     "text": [
      "hello how are you\n"
     ]
    }
   ],
   "source": [
    "a = \"hello\"\n",
    "b = \"are you\"\n",
    "print(a+\" \"+ \"how\" + \" \"+b)"
   ]
  },
  {
   "cell_type": "code",
   "execution_count": 32,
   "id": "82663056",
   "metadata": {},
   "outputs": [
    {
     "name": "stdout",
     "output_type": "stream",
     "text": [
      "my name is Dvs, my age is 23.\n",
      "my name is Dvs,my age is 23.\n"
     ]
    }
   ],
   "source": [
    "name = \"Dvs\"\n",
    "age = 23\n",
    "# print(\"{},{}\".format(arg1,arg2)\n",
    "print(\"my name is {}, my age is {}.\".format(name,age))\n",
    "print(f\"my name is {name},my age is {age}.\")"
   ]
  },
  {
   "cell_type": "code",
   "execution_count": 33,
   "id": "2ccd8831",
   "metadata": {},
   "outputs": [
    {
     "name": "stdout",
     "output_type": "stream",
     "text": [
      "my name is Divyesh\n"
     ]
    }
   ],
   "source": [
    "a = \"Divyesh\"\n",
    "b = \"my name is \" + a\n",
    "print(b)"
   ]
  },
  {
   "cell_type": "code",
   "execution_count": 34,
   "id": "c0c32493",
   "metadata": {},
   "outputs": [
    {
     "name": "stdout",
     "output_type": "stream",
     "text": [
      "my name is \"helly\",i am student.\n"
     ]
    }
   ],
   "source": [
    "a = \"my name is \\\"helly\\\",i am student.\"\n",
    "print(a)"
   ]
  },
  {
   "cell_type": "code",
   "execution_count": 35,
   "id": "7dafb3e6",
   "metadata": {},
   "outputs": [
    {
     "name": "stdout",
     "output_type": "stream",
     "text": [
      "my name is \\ \"helly\" \\,i am student.\n"
     ]
    }
   ],
   "source": [
    "a = \"my name is \\\\ \\\"helly\\\" \\\\,i am student.\"\n",
    "print(a)"
   ]
  },
  {
   "cell_type": "code",
   "execution_count": 36,
   "id": "c0acbf4c",
   "metadata": {},
   "outputs": [
    {
     "name": "stdout",
     "output_type": "stream",
     "text": [
      "my name is  \"helly\" \n",
      "i am student.\n"
     ]
    }
   ],
   "source": [
    "a = \"my name is  \\\"helly\\\" \\ni am student.\"\n",
    "print(a)"
   ]
  },
  {
   "cell_type": "code",
   "execution_count": 37,
   "id": "61e0b278",
   "metadata": {},
   "outputs": [
    {
     "name": "stdout",
     "output_type": "stream",
     "text": [
      "my name is helly \r",
      "i am student.\n"
     ]
    }
   ],
   "source": [
    "a = \"my name is helly \\ri am student.\"\n",
    "#    i am student.\n",
    "print(a)"
   ]
  },
  {
   "cell_type": "code",
   "execution_count": 38,
   "id": "84c4c2d9",
   "metadata": {},
   "outputs": [
    {
     "name": "stdout",
     "output_type": "stream",
     "text": [
      "True\n"
     ]
    }
   ],
   "source": [
    "print(10>5)"
   ]
  },
  {
   "cell_type": "code",
   "execution_count": 39,
   "id": "def99f12",
   "metadata": {},
   "outputs": [
    {
     "name": "stdout",
     "output_type": "stream",
     "text": [
      "False\n"
     ]
    }
   ],
   "source": [
    "print(10<5)"
   ]
  },
  {
   "cell_type": "code",
   "execution_count": 40,
   "id": "6d966380",
   "metadata": {},
   "outputs": [
    {
     "name": "stdout",
     "output_type": "stream",
     "text": [
      "False\n"
     ]
    }
   ],
   "source": [
    "print(100 == 10)"
   ]
  },
  {
   "cell_type": "code",
   "execution_count": 41,
   "id": "dabf4d62",
   "metadata": {},
   "outputs": [
    {
     "ename": "SyntaxError",
     "evalue": "invalid syntax (1647535385.py, line 1)",
     "output_type": "error",
     "traceback": [
      "\u001b[1;36m  Input \u001b[1;32mIn [41]\u001b[1;36m\u001b[0m\n\u001b[1;33m    print(sneha==)\u001b[0m\n\u001b[1;37m                 ^\u001b[0m\n\u001b[1;31mSyntaxError\u001b[0m\u001b[1;31m:\u001b[0m invalid syntax\n"
     ]
    }
   ],
   "source": [
    "print(sneha==)"
   ]
  }
 ],
 "metadata": {
  "kernelspec": {
   "display_name": "Python 3 (ipykernel)",
   "language": "python",
   "name": "python3"
  },
  "language_info": {
   "codemirror_mode": {
    "name": "ipython",
    "version": 3
   },
   "file_extension": ".py",
   "mimetype": "text/x-python",
   "name": "python",
   "nbconvert_exporter": "python",
   "pygments_lexer": "ipython3",
   "version": "3.9.12"
  }
 },
 "nbformat": 4,
 "nbformat_minor": 5
}
