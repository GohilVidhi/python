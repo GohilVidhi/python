{
 "cells": [
  {
   "cell_type": "markdown",
   "id": "4db1fa48",
   "metadata": {},
   "source": [
    "# Python Conditions "
   ]
  },
  {
   "cell_type": "code",
   "execution_count": 1,
   "id": "88011a11",
   "metadata": {},
   "outputs": [],
   "source": [
    "# Equals: a == b\n",
    "# Not Equals: a != b\n",
    "# Less than: a < b\n",
    "# Less than or equal to: a <= b\n",
    "# Greater than: a > b\n",
    "# Greater than or equal to: a >= b"
   ]
  },
  {
   "cell_type": "markdown",
   "id": "1bbcd62a",
   "metadata": {},
   "source": [
    "# If statements"
   ]
  },
  {
   "cell_type": "code",
   "execution_count": 2,
   "id": "fce6173d",
   "metadata": {},
   "outputs": [],
   "source": [
    "# An \"if statement\" is written by using the if keyword.\n",
    "# Indentation :- Python relies on indentation (whitespace at the beginning of a line) to define scope in the code.\n",
    "#                Other programming languages often use curly-brackets for this purpose."
   ]
  },
  {
   "cell_type": "code",
   "execution_count": 3,
   "id": "10b431f0",
   "metadata": {},
   "outputs": [
    {
     "name": "stdout",
     "output_type": "stream",
     "text": [
      "a is max\n"
     ]
    }
   ],
   "source": [
    "a = 51\n",
    "b = 20\n",
    "if a > b:\n",
    "    print(\"a is max\")"
   ]
  },
  {
   "cell_type": "code",
   "execution_count": 4,
   "id": "37c25d9c",
   "metadata": {},
   "outputs": [
    {
     "name": "stdout",
     "output_type": "stream",
     "text": [
      "a is max\n",
      "My name is Khaan\n"
     ]
    }
   ],
   "source": [
    "a = 51\n",
    "b = 20\n",
    "if a > b:\n",
    "    print(\"a is max\")\n",
    "    print(\"My name is Khaan\")\n",
    "# any stament in body of conditional statmet if it is true then it will run"
   ]
  },
  {
   "cell_type": "code",
   "execution_count": 5,
   "id": "8ff41c46",
   "metadata": {},
   "outputs": [],
   "source": [
    "a = 51\n",
    "b = 20\n",
    "if a < b:\n",
    "    print(\"a is max\")"
   ]
  },
  {
   "cell_type": "markdown",
   "id": "3e9c05f8",
   "metadata": {},
   "source": [
    "# If else"
   ]
  },
  {
   "cell_type": "code",
   "execution_count": 6,
   "id": "fbba77a9",
   "metadata": {},
   "outputs": [
    {
     "name": "stdout",
     "output_type": "stream",
     "text": [
      "b is max\n"
     ]
    }
   ],
   "source": [
    "a = 51\n",
    "b = 20\n",
    "if a < b:\n",
    "    print(\"a is max\")\n",
    "else:\n",
    "    print(\"b is max\")"
   ]
  },
  {
   "cell_type": "markdown",
   "id": "558b7fac",
   "metadata": {},
   "source": [
    "# Short Hand If"
   ]
  },
  {
   "cell_type": "code",
   "execution_count": 7,
   "id": "df5fbb90",
   "metadata": {},
   "outputs": [
    {
     "name": "stdout",
     "output_type": "stream",
     "text": [
      "a is max\n"
     ]
    }
   ],
   "source": [
    "a = 51\n",
    "b = 20\n",
    "if a > b:print(\"a is max\")"
   ]
  },
  {
   "cell_type": "markdown",
   "id": "44abbaf2",
   "metadata": {},
   "source": [
    "# Short Hand If Else"
   ]
  },
  {
   "cell_type": "code",
   "execution_count": 8,
   "id": "d0088f69",
   "metadata": {},
   "outputs": [
    {
     "name": "stdout",
     "output_type": "stream",
     "text": [
      "b is max\n"
     ]
    }
   ],
   "source": [
    "a = 51\n",
    "b = 20\n",
    "print(\"a is max\") if a < b else print(\"b is max\")"
   ]
  },
  {
   "cell_type": "markdown",
   "id": "0ef94af9",
   "metadata": {},
   "source": [
    "# If elif else"
   ]
  },
  {
   "cell_type": "code",
   "execution_count": 9,
   "id": "e5a7de40",
   "metadata": {},
   "outputs": [
    {
     "name": "stdout",
     "output_type": "stream",
     "text": [
      "b is max\n"
     ]
    }
   ],
   "source": [
    "a = 51\n",
    "b = 20\n",
    "if a < b:\n",
    "    print(\"a is max\")\n",
    "elif a > b:\n",
    "    print(\"b is max\")\n",
    "else:\n",
    "    print(\"Same\")"
   ]
  },
  {
   "cell_type": "code",
   "execution_count": 10,
   "id": "d69f7465",
   "metadata": {},
   "outputs": [
    {
     "name": "stdout",
     "output_type": "stream",
     "text": [
      "1. for pizza \n",
      "2. for burger \n",
      "3. for panipuri \n",
      "4. for dalbati \n",
      "Enter the number : 3\n",
      "panipuri\n"
     ]
    }
   ],
   "source": [
    "a = input('''1. for pizza \\n2. for burger \\n3. for panipuri \\n4. for dalbati \\nEnter the number : ''')\n",
    "\n",
    "if a == '1':\n",
    "    print('pizza')\n",
    "elif a == '2':\n",
    "    print('burger')\n",
    "elif a == '3':\n",
    "    print('panipuri')\n",
    "elif a == '4':\n",
    "    print('dalbati')\n",
    "else:\n",
    "    print('Invalid input')"
   ]
  },
  {
   "cell_type": "markdown",
   "id": "8d32e269",
   "metadata": {},
   "source": [
    "# And (Logical Operator)"
   ]
  },
  {
   "cell_type": "code",
   "execution_count": 11,
   "id": "0729c82f",
   "metadata": {},
   "outputs": [
    {
     "name": "stdout",
     "output_type": "stream",
     "text": [
      "Both conditions are True\n"
     ]
    }
   ],
   "source": [
    "a = 200\n",
    "b = 33\n",
    "c = 500 \n",
    "if a > b and c > a:                 # you can use '&' inplace of 'and'\n",
    "    print(\"Both conditions are True\")"
   ]
  },
  {
   "cell_type": "code",
   "execution_count": 12,
   "id": "3f316bf5",
   "metadata": {},
   "outputs": [
    {
     "name": "stdout",
     "output_type": "stream",
     "text": [
      "Both conditions are True\n"
     ]
    }
   ],
   "source": [
    "a = 200\n",
    "b = 33\n",
    "c = 500 \n",
    "if (a > b) & (c > a):\n",
    "    print(\"Both conditions are True\")"
   ]
  },
  {
   "cell_type": "markdown",
   "id": "e2d85432",
   "metadata": {},
   "source": [
    "# Or (Logical Operator)"
   ]
  },
  {
   "cell_type": "code",
   "execution_count": 13,
   "id": "52e585ee",
   "metadata": {},
   "outputs": [
    {
     "name": "stdout",
     "output_type": "stream",
     "text": [
      "At least one of the conditions is True\n"
     ]
    }
   ],
   "source": [
    "a = 200\n",
    "b = 33\n",
    "c = 500\n",
    "if a > b or a > c:                  # you can use '|' inplace of 'or'\n",
    "    print(\"At least one of the conditions is True\")"
   ]
  },
  {
   "cell_type": "code",
   "execution_count": 14,
   "id": "261a23e6",
   "metadata": {},
   "outputs": [
    {
     "name": "stdout",
     "output_type": "stream",
     "text": [
      "At least one of the conditions is True\n"
     ]
    }
   ],
   "source": [
    "a = 200\n",
    "b = 33\n",
    "c = 500\n",
    "if (a > b) | (a > c):\n",
    "    print(\"At least one of the conditions is True\")"
   ]
  },
  {
   "cell_type": "markdown",
   "id": "4c2f62de",
   "metadata": {},
   "source": [
    "# Nested if"
   ]
  },
  {
   "cell_type": "code",
   "execution_count": 15,
   "id": "91f381e4",
   "metadata": {},
   "outputs": [],
   "source": [
    "# if statements inside if statements, this is called nested if statements."
   ]
  },
  {
   "cell_type": "code",
   "execution_count": null,
   "id": "67907108",
   "metadata": {},
   "outputs": [],
   "source": [
    "# input user if it is in the range between 5 to 20.\n",
    "a=int(input(\"enter any number : \"))\n",
    "\n",
    "if a>5:\n",
    "    print('a is above 5')\n",
    "    if a < 20:\n",
    "        print('a is between 5 to 20')\n",
    "    else:\n",
    "        print('a is above 20')\n",
    "else:\n",
    "    print('a is below 5')"
   ]
  },
  {
   "cell_type": "markdown",
   "id": "122cea0a",
   "metadata": {},
   "source": [
    "# Examples "
   ]
  },
  {
   "cell_type": "code",
   "execution_count": null,
   "id": "005d8985",
   "metadata": {},
   "outputs": [],
   "source": [
    "# user input in number is odd or even\n",
    "a = int(input('Enter number: '))\n",
    "if (a%2 == 0):\n",
    "    print('A is even')\n",
    "else:\n",
    "    print('A is odd')"
   ]
  },
  {
   "cell_type": "code",
   "execution_count": null,
   "id": "9b694e4b",
   "metadata": {},
   "outputs": [],
   "source": [
    "# user input year is leap year or not \n",
    "a = int(input('Enter the year: '))\n",
    "if (a%4 == 0):\n",
    "    print(a,'is leap year')\n",
    "    print('{} is leap year'.format(a))  # format method \n",
    "else:\n",
    "    print(a,'is not a leap year')"
   ]
  },
  {
   "cell_type": "code",
   "execution_count": null,
   "id": "bbceaaba",
   "metadata": {},
   "outputs": [],
   "source": [
    "# 90 - 100 A+  same for rest\n",
    "x = float(input(\"Enter the Marks: \"))\n",
    "if x<=100 and x>90:\n",
    "    print(\"A Grade\")\n",
    "elif x<=90 and x>80:\n",
    "    print(\"B Grade\")\n",
    "elif x<=80 and x>60:\n",
    "    print(\"C Grade\")\n",
    "elif x<=60 and x>=40:\n",
    "    print(\"D Grade\")\n",
    "elif x<40 and x>=0:\n",
    "    print(\"Fail\")\n",
    "else:\n",
    "    print(\"Invalid\")"
   ]
  },
  {
   "cell_type": "code",
   "execution_count": null,
   "id": "39379fc2",
   "metadata": {},
   "outputs": [],
   "source": [
    "# design calculator\n",
    "# input a ,b\n",
    "# input that give choice to do operation +,-,*,/\n",
    "# print('''press 1 for +\n",
    "# press 2 for -''')\n",
    "a=int(input('Enter a number: '))\n",
    "b=int(input('Enter a number: '))\n",
    "c=int(input('''1. Press 1 for addition\\n2. Press 2 for subtraction\\n3. Press 3 for multiplication\\n4. Press 4 for Division\n",
    "Choose a Number : '''))\n",
    "\n",
    "if c == 1:\n",
    "    print('addition is :',a+b)\n",
    "elif c== 2:\n",
    "    print('subtraction is: ',a-b)\n",
    "elif c == 3:\n",
    "    print('multiplication is : ',a*b)\n",
    "elif c == 4:\n",
    "    print('Division is: ',a/b)\n",
    "else:\n",
    "    print('invalid input')"
   ]
  },
  {
   "cell_type": "code",
   "execution_count": null,
   "id": "3599f2aa",
   "metadata": {},
   "outputs": [],
   "source": [
    "# user input a character\n",
    "#    a->\"you have enter a\"\n",
    "#    b->\"you have enter b\"\n",
    "#    c->\"you have enter c\"\n",
    "#    ->Invalid character\n",
    "x = input(\"Enter the Character : \")\n",
    "\n",
    "if x == ('a' or 'A'):\n",
    "    print(\"You have Enter A\")\n",
    "elif x == ('b' or 'B'):\n",
    "    print(\"You have Enter B\")\n",
    "elif x == ('c' or 'C'):\n",
    "    print(\"You have Enter C\")\n",
    "else:\n",
    "    print(\"Invalid Character\")"
   ]
  },
  {
   "cell_type": "code",
   "execution_count": null,
   "id": "45121a7e",
   "metadata": {},
   "outputs": [],
   "source": [
    "#  user input a number\n",
    "#     positive number\n",
    "#         odd number\n",
    "#             perform addition with an integer constant\n",
    "#         even number\n",
    "#             perform multiplication with an floating point constant\n",
    "#     negative number\n",
    "#         odd number\n",
    "#             perform subtraction with an integer constant\n",
    "#         even number\n",
    "#             perform division with an floating point constant\n",
    "\n",
    "x=float(input(\"Enter the Value: \"))\n",
    "if x > 0:\n",
    "    print(\"Value is positive\")\n",
    "    if x%2!=0:\n",
    "        print(x+7)\n",
    "    else:\n",
    "        print(x*5.2)\n",
    "elif x < 0:\n",
    "    print(\"Value is negative\")\n",
    "    if x%2!= 0:\n",
    "        print(x - 7)\n",
    "    else:\n",
    "        print(x / 2)\n",
    "else:\n",
    "    print(\"zero\")"
   ]
  },
  {
   "cell_type": "markdown",
   "id": "9bbf3072",
   "metadata": {},
   "source": [
    "# randon function"
   ]
  },
  {
   "cell_type": "code",
   "execution_count": null,
   "id": "c3bac5ad",
   "metadata": {},
   "outputs": [],
   "source": [
    "import random"
   ]
  },
  {
   "cell_type": "code",
   "execution_count": null,
   "id": "878e0f68",
   "metadata": {},
   "outputs": [],
   "source": [
    "a = ['kasab','laden',5882,'tushar',45]\n",
    "b = random.choice(a)\n",
    "print(b)"
   ]
  }
 ],
 "metadata": {
  "kernelspec": {
   "display_name": "Python 3 (ipykernel)",
   "language": "python",
   "name": "python3"
  },
  "language_info": {
   "codemirror_mode": {
    "name": "ipython",
    "version": 3
   },
   "file_extension": ".py",
   "mimetype": "text/x-python",
   "name": "python",
   "nbconvert_exporter": "python",
   "pygments_lexer": "ipython3",
   "version": "3.9.12"
  }
 },
 "nbformat": 4,
 "nbformat_minor": 5
}
