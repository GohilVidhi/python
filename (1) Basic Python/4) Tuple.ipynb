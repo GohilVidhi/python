{
 "cells": [
  {
   "cell_type": "markdown",
   "id": "fef51a8d",
   "metadata": {},
   "source": [
    "# Tuple"
   ]
  },
  {
   "cell_type": "code",
   "execution_count": 1,
   "id": "b95d01e0",
   "metadata": {},
   "outputs": [],
   "source": [
    "# Tuple used to store multiple items in a single variable.\n",
    "# Created using \"()\".\n",
    "# collection in orderd\n",
    "# immutable (unchangeble)\n",
    "# indexing supporting"
   ]
  },
  {
   "cell_type": "code",
   "execution_count": 2,
   "id": "33fde942",
   "metadata": {},
   "outputs": [
    {
     "name": "stdout",
     "output_type": "stream",
     "text": [
      "(1, 3.14, True, False, 'Tushar', None)\n"
     ]
    }
   ],
   "source": [
    "tp = (1,3.14,True,False,\"Tushar\",None)\n",
    "print(tp)"
   ]
  },
  {
   "cell_type": "code",
   "execution_count": 3,
   "id": "77c06381",
   "metadata": {},
   "outputs": [
    {
     "name": "stdout",
     "output_type": "stream",
     "text": [
      "(50, [8, 7.5], (5, 'Dvs'), {3.14, True, 'Anand'}, {'Fruit': 'Apple'})\n"
     ]
    }
   ],
   "source": [
    "tp = (50,[8,7.5],(5,\"Dvs\"),{3.14,True,\"Anand\"},{\"Fruit\":\"Apple\"})\n",
    "print(tp)"
   ]
  },
  {
   "cell_type": "markdown",
   "id": "f81dee32",
   "metadata": {},
   "source": [
    "# Indexing"
   ]
  },
  {
   "cell_type": "code",
   "execution_count": 4,
   "id": "eda467b1",
   "metadata": {},
   "outputs": [
    {
     "name": "stdout",
     "output_type": "stream",
     "text": [
      "1\n",
      "('ram', 8j, True)\n",
      "(1, 'ram', 8j)\n",
      "3.14\n",
      "(8j, True, None, (1, 2, 3), 3.14)\n",
      "(3.14, (1, 2, 3), None, True, 8j, 'ram', 1)\n",
      "(1, 2, 3)\n",
      "2\n"
     ]
    }
   ],
   "source": [
    "a=(1,'ram',8j,True,None,(1,2,3),3.14)\n",
    "print(a[0])\n",
    "print(a[1:4])\n",
    "print(a[:3])\n",
    "print(a[-1])\n",
    "print(a[-5:])\n",
    "print(a[::-1])\n",
    "print(a[-2])\n",
    "print(a[-2][1])"
   ]
  },
  {
   "cell_type": "markdown",
   "id": "e21b4234",
   "metadata": {},
   "source": [
    "# Functions"
   ]
  },
  {
   "cell_type": "code",
   "execution_count": 5,
   "id": "03a27f5a",
   "metadata": {},
   "outputs": [
    {
     "data": {
      "text/plain": [
       "3"
      ]
     },
     "execution_count": 5,
     "metadata": {},
     "output_type": "execute_result"
    }
   ],
   "source": [
    "tp = (1,2,3,4,1,2,1,4,5)\n",
    "tp.count(1)"
   ]
  },
  {
   "cell_type": "code",
   "execution_count": 6,
   "id": "be45249d",
   "metadata": {},
   "outputs": [
    {
     "data": {
      "text/plain": [
       "3"
      ]
     },
     "execution_count": 6,
     "metadata": {},
     "output_type": "execute_result"
    }
   ],
   "source": [
    "tp = (1,2,3,4,1,2,1,4,5)\n",
    "tp.index(4)"
   ]
  },
  {
   "cell_type": "code",
   "execution_count": 7,
   "id": "ff8f417e",
   "metadata": {},
   "outputs": [
    {
     "data": {
      "text/plain": [
       "9"
      ]
     },
     "execution_count": 7,
     "metadata": {},
     "output_type": "execute_result"
    }
   ],
   "source": [
    "tp = (1,2,3,4,1,2,1,4,5)\n",
    "len(tp)"
   ]
  },
  {
   "cell_type": "code",
   "execution_count": 8,
   "id": "e4d10148",
   "metadata": {},
   "outputs": [
    {
     "data": {
      "text/plain": [
       "(1, 2, 3, 4, 5, 6)"
      ]
     },
     "execution_count": 8,
     "metadata": {},
     "output_type": "execute_result"
    }
   ],
   "source": [
    "tp1 = (1,2,3)\n",
    "tp2 = (4,5,6)\n",
    "tp1 += tp2\n",
    "tp1"
   ]
  },
  {
   "cell_type": "code",
   "execution_count": 9,
   "id": "ad24f51c",
   "metadata": {},
   "outputs": [
    {
     "data": {
      "text/plain": [
       "(1, 2, 3, 1, 2, 3, 1, 2, 3)"
      ]
     },
     "execution_count": 9,
     "metadata": {},
     "output_type": "execute_result"
    }
   ],
   "source": [
    "tp = (1,2,3)\n",
    "tp1 = tp*3\n",
    "tp1"
   ]
  },
  {
   "cell_type": "code",
   "execution_count": 10,
   "id": "5c80b680",
   "metadata": {},
   "outputs": [
    {
     "name": "stdout",
     "output_type": "stream",
     "text": [
      "[1, 2, 3]\n",
      "[1, 2, 3, 'ram']\n",
      "(1, 2, 3, 'ram')\n"
     ]
    }
   ],
   "source": [
    "tp = (1,2,3)\n",
    "tp1 = list(tp)\n",
    "print(tp1)\n",
    "\n",
    "tp1.append(\"ram\")\n",
    "print(tp1)\n",
    "\n",
    "tp2 = tuple(tp1)\n",
    "print(tp2)"
   ]
  }
 ],
 "metadata": {
  "kernelspec": {
   "display_name": "Python 3",
   "language": "python",
   "name": "python3"
  },
  "language_info": {
   "codemirror_mode": {
    "name": "ipython",
    "version": 3
   },
   "file_extension": ".py",
   "mimetype": "text/x-python",
   "name": "python",
   "nbconvert_exporter": "python",
   "pygments_lexer": "ipython3",
   "version": "3.10.2"
  },
  "vscode": {
   "interpreter": {
    "hash": "aed802dfa0364bb34bcf3a14ad6ff6cc2a9f03021bea7e0139b7c8d282ae3ca1"
   }
  }
 },
 "nbformat": 4,
 "nbformat_minor": 5
}
