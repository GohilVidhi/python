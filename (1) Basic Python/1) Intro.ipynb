{
 "cells": [
  {
   "cell_type": "markdown",
   "id": "3e4ab99b",
   "metadata": {},
   "source": [
    "# What is Python?"
   ]
  },
  {
   "cell_type": "code",
   "execution_count": 1,
   "id": "cb84327b",
   "metadata": {},
   "outputs": [],
   "source": [
    "# Python is a popular programming language. It was created by Guido van Rossum, and released in 1991."
   ]
  },
  {
   "cell_type": "code",
   "execution_count": 2,
   "id": "0ce2a287",
   "metadata": {},
   "outputs": [],
   "source": [
    "# It is used for:\n",
    "#     -web development (server-side)\n",
    "#     -software development"
   ]
  },
  {
   "cell_type": "markdown",
   "id": "54be418e",
   "metadata": {},
   "source": [
    "#  Python Features and Advantages"
   ]
  },
  {
   "cell_type": "code",
   "execution_count": 3,
   "id": "9c7a0b4a",
   "metadata": {},
   "outputs": [],
   "source": [
    "# 1. Easy to Code :\n",
    "#     -Python is a very high-level programming language, yet it is effortless to learn. \n",
    "#     -Anyone can learn to code in Python in just a few hours or a few days.\n",
    "#     -the basic Python syntax is very easy, as compared to other popular languages like C, C++, and Java. \n",
    "\n",
    "# 2. Easy to Read :\n",
    "#     -Python code looks like simple English words.\n",
    "    \n",
    "# 3. Free and Open-Source :\n",
    "#     -it is completely free to use, even for commercial purposes. \n",
    "#      It doesn't cost anything to download Python or to include it in your application. \n",
    "#      It can also be freely modified and re-distributed. \n",
    "#      Python can be downloaded from the official website = \"www.python.org/downloads\".\n",
    "     \n",
    "# 4. Interpreted :\n",
    "#     -When a programming language is interpreted, it means that the source code is executed line by line, and not all at once. \n",
    "#      Programming languages such as C++ or Java are not interpreted, and hence need to be compiled first to run them.\n",
    "#      There is no need to compile Python because it is processed at runtime by the interpreter.\n",
    "     \n",
    "# 5. Portable :\n",
    "#     -Python is portable in the sense that the same code can be used on different machines. \n",
    "#      Suppose you write a Python code on a Mac. If you want to run it on Windows or Linux later, you don’t have to make any \n",
    "#      changes to it.\n",
    "     \n",
    "# 6. Object-Oriented programing :\n",
    "#     -in Python, object-oriented Programming (OOPs) is a programming paradigm that uses objects and classes in programming. \n",
    "#      It aims to implement real-world entities like Polymorphism, Encapsulation, Inheritance, Data Abstraction.\n",
    "\n",
    "# 7. Expressive :\n",
    "#     -Python needs to use only a few lines of code to perform complex tasks. \n",
    "#      For example, to display Hello World, you simply need to type one line - print(“Hello World”). Other languages like Java  \n",
    "#      or C would take up multiple lines to execute this.\n",
    "\n",
    "# 8. Support for GUI (Graphical User Interface) :\n",
    "#     -One of the key aspects of any programming language is support for GUI. \n",
    "#      A user can easily interact with the software using a GUI. Python offers various toolkits, such as Tkinter, wxPython and \n",
    "#      JPython, which allows for GUI's easy and fast development."
   ]
  },
  {
   "cell_type": "markdown",
   "id": "356faf48",
   "metadata": {},
   "source": [
    "# Python Real-Time IDEs"
   ]
  },
  {
   "cell_type": "code",
   "execution_count": 4,
   "id": "348be571",
   "metadata": {},
   "outputs": [],
   "source": [
    "# * General Editors and IDEs(integreted development environment) with Python Support\n",
    "# --> Eclipse + PyDev\n",
    "#     Sublime Text\n",
    "#     Atom\n",
    "#     GNU Emacs\n",
    "#     Vi / Vim\n",
    "#     Visual Studio\n",
    "#     Visual Studio Code\n",
    "\n",
    "# * Python-Specific Editors and IDEs\n",
    "# --> PyCharm\n",
    "#     Spyder\n",
    "#     Thonny\n",
    "#     Jupyter Notebook"
   ]
  },
  {
   "cell_type": "markdown",
   "id": "1679751d",
   "metadata": {},
   "source": [
    "# Python Syntax"
   ]
  },
  {
   "cell_type": "code",
   "execution_count": 9,
   "id": "03062f31",
   "metadata": {
    "scrolled": true
   },
   "outputs": [
    {
     "name": "stdout",
     "output_type": "stream",
     "text": [
      "hy\n"
     ]
    }
   ],
   "source": [
    "print(\"hy\")"
   ]
  },
  {
   "cell_type": "markdown",
   "id": "ac0c4e05",
   "metadata": {},
   "source": [
    "# Comments"
   ]
  },
  {
   "cell_type": "code",
   "execution_count": null,
   "id": "ae3dbbe3",
   "metadata": {},
   "outputs": [],
   "source": [
    "a ='varialbe'\n",
    "print(a)\n",
    "'''variable'''\n",
    "# variable\n"
   ]
  },
  {
   "cell_type": "code",
   "execution_count": null,
   "id": "4851ed25",
   "metadata": {},
   "outputs": [],
   "source": [
    "# Comments starts with a '#' , and Python will ignore them.\n",
    "# shot cut for comment is ctrl + '/' ."
   ]
  },
  {
   "cell_type": "markdown",
   "id": "1219b1d7",
   "metadata": {},
   "source": [
    "# Keywords"
   ]
  },
  {
   "cell_type": "code",
   "execution_count": null,
   "id": "e7cea885",
   "metadata": {},
   "outputs": [],
   "source": [
    "# Python keywords are reserved words that have a special meaning associated with them and can’t be used for anything but those \n",
    "# specific purposes. Each keyword is designed to achieve specific functionality."
   ]
  },
  {
   "cell_type": "code",
   "execution_count": 17,
   "id": "9833a875",
   "metadata": {},
   "outputs": [
    {
     "name": "stdout",
     "output_type": "stream",
     "text": [
      "['.ipynb_checkpoints', '1) Intro.ipynb', '10) Recursion & Lambda Function.ipynb', '11) Math_Random Module.ipynb', '12) Date and Time Module.ipynb', '13) Comprehension.ipynb', '14) Try , Except and Finally.ipynb', '15) OOPs.ipynb', '2) Operators & String Method.ipynb', '3) List.ipynb', '4) Tuple.ipynb', '5) Set.ipynb', '6) Dictionary.ipynb', '7) If_Else.ipynb', '8) Loop.ipynb', '9) Function.ipynb', 'Untitled.ipynb', 'Untitled1.ipynb']\n"
     ]
    }
   ],
   "source": [
    "import os\n",
    "print(os.listdir())"
   ]
  },
  {
   "cell_type": "code",
   "execution_count": null,
   "id": "69bb9564",
   "metadata": {},
   "outputs": [],
   "source": [
    "# All the keywords except, True, False, and None, must be written in a lowercase alphabet symbol."
   ]
  },
  {
   "cell_type": "markdown",
   "id": "85c743f9",
   "metadata": {},
   "source": [
    "# Python Data Types"
   ]
  },
  {
   "cell_type": "code",
   "execution_count": null,
   "id": "364525b0",
   "metadata": {},
   "outputs": [],
   "source": [
    "# Text Type:  str\n",
    "# Numeri\n",
    "c Types:  int, float, complex\n",
    "# Sequence Types:  list, tuple, range\n",
    "# Mapping Type:  dict\n",
    "# Set Types:  set\n",
    "# Boolean Type:  bool\n",
    "# None Type:  NoneType"
   ]
  },
  {
   "cell_type": "markdown",
   "id": "2493f883",
   "metadata": {},
   "source": [
    "# Python Variables"
   ]
  },
  {
   "cell_type": "code",
   "execution_count": null,
   "id": "6e6ee7a3",
   "metadata": {},
   "outputs": [],
   "source": [
    "# Variables are containers for storing data values.\n",
    "# Python has no command for declaring a variable.\n",
    "# A variable is created the moment you first assign a value to it."
   ]
  },
  {
   "cell_type": "code",
   "execution_count": null,
   "id": "1197822a",
   "metadata": {},
   "outputs": [],
   "source": [
    "# variable_name = variable_value\n",
    "\n",
    "# A variable can have a short name (like x and y) or a more descriptive name (age, carname, total_volume).\n",
    "\n",
    "# Rules for Python variables:\n",
    "#     A variable name must start with a letter or the underscore character\n",
    "#     A variable name cannot start with a number\n",
    "#     A variable name can only contain alpha-numeric characters and underscores (A-z, 0-9, and _ )\n",
    "#     Variable names are case-sensitive (age, Age and AGE are three different variables)"
   ]
  },
  {
   "cell_type": "code",
   "execution_count": 40,
   "id": "9ee3102a",
   "metadata": {},
   "outputs": [
    {
     "name": "stdout",
     "output_type": "stream",
     "text": [
      "252.4\n"
     ]
    }
   ],
   "source": [
    "# Example :\n",
    "\n",
    "fruits_naMe= 252.4\n",
    "print(fruits_naMe)\n"
   ]
  },
  {
   "cell_type": "code",
   "execution_count": 26,
   "id": "99263dca",
   "metadata": {},
   "outputs": [
    {
     "name": "stdout",
     "output_type": "stream",
     "text": [
      "15\n",
      "15\n",
      "15\n"
     ]
    }
   ],
   "source": [
    "a=b=c =15\n",
    "print(a)\n",
    "print(b)\n",
    "print(c)\n"
   ]
  },
  {
   "cell_type": "code",
   "execution_count": 4,
   "id": "ce2918fa",
   "metadata": {},
   "outputs": [
    {
     "name": "stdout",
     "output_type": "stream",
     "text": [
      "Ram\n",
      "25\n",
      "7\n"
     ]
    }
   ],
   "source": [
    "a,b,c = \"Ram\",25,7\n",
    "print(a)\n",
    "print(b)\n",
    "print(c)"
   ]
  },
  {
   "cell_type": "code",
   "execution_count": null,
   "id": "85d767bb",
   "metadata": {},
   "outputs": [],
   "source": [
    "a,b,c = 'Ram',25,7\n",
    "print(a,b,c)"
   ]
  },
  {
   "cell_type": "code",
   "execution_count": null,
   "id": "0240734f",
   "metadata": {},
   "outputs": [],
   "source": [
    "a = b = c = 15\n",
    "print(a,b,c)"
   ]
  },
  {
   "cell_type": "code",
   "execution_count": 28,
   "id": "4f2c5e54",
   "metadata": {},
   "outputs": [
    {
     "name": "stdout",
     "output_type": "stream",
     "text": [
      "152\n",
      "5\n"
     ]
    }
   ],
   "source": [
    "# case sensitive language\n",
    "\n",
    "a=5\n",
    "A=152\n",
    "print(A)\n",
    "print(a)"
   ]
  },
  {
   "cell_type": "code",
   "execution_count": null,
   "id": "8367c027",
   "metadata": {},
   "outputs": [],
   "source": [
    "myAge = 12 # Camel case\n",
    "MyAge = 12 #Pascal case\n",
    "my_age_is = 12 #Snake case"
   ]
  },
  {
   "cell_type": "code",
   "execution_count": 6,
   "id": "5b26703d",
   "metadata": {},
   "outputs": [],
   "source": [
    "# spacing is not allowed\n",
    "divy  = 5"
   ]
  },
  {
   "cell_type": "code",
   "execution_count": 29,
   "id": "e2888e7e",
   "metadata": {},
   "outputs": [],
   "source": [
    "# special characters are not alloed\n",
    "divyesh = 4 "
   ]
  },
  {
   "cell_type": "code",
   "execution_count": null,
   "id": "9d5eb427",
   "metadata": {},
   "outputs": [],
   "source": [
    "# dash is not allowed\n",
    "div-yesh = 3 "
   ]
  },
  {
   "cell_type": "code",
   "execution_count": null,
   "id": "f8143466",
   "metadata": {},
   "outputs": [],
   "source": [
    "# number at front is not alloed\n",
    "12divyesh = 8 "
   ]
  },
  {
   "cell_type": "code",
   "execution_count": 8,
   "id": "3d2e9207",
   "metadata": {},
   "outputs": [
    {
     "name": "stdout",
     "output_type": "stream",
     "text": [
      "12\n"
     ]
    }
   ],
   "source": [
    "divyesh12 = 12\n",
    "print(divyesh12)"
   ]
  },
  {
   "cell_type": "code",
   "execution_count": 9,
   "id": "ecc4173c",
   "metadata": {},
   "outputs": [
    {
     "name": "stdout",
     "output_type": "stream",
     "text": [
      "Mango\n"
     ]
    }
   ],
   "source": [
    "# underscore is alloed\n",
    "fruits_grows_in_gujarat = 'Mango'\n",
    "print(fruits_grows_in_gujarat)"
   ]
  },
  {
   "cell_type": "code",
   "execution_count": 30,
   "id": "5bd3ec35",
   "metadata": {},
   "outputs": [
    {
     "name": "stdout",
     "output_type": "stream",
     "text": [
      "john\n",
      "5\n"
     ]
    }
   ],
   "source": [
    "x = 5\n",
    "y = \"john\"\n",
    "print(y)\n",
    "print(x)"
   ]
  },
  {
   "cell_type": "code",
   "execution_count": 15,
   "id": "a4773f2e",
   "metadata": {},
   "outputs": [
    {
     "name": "stdout",
     "output_type": "stream",
     "text": [
      "<class 'str'>\n",
      "25\n",
      "(25+0j)\n"
     ]
    }
   ],
   "source": [
    "x = str(25)\n",
    "print(type(x))\n",
    "print(x)\n",
    "y = complex(x)\n",
    "print(y)"
   ]
  },
  {
   "cell_type": "code",
   "execution_count": null,
   "id": "b8d46e09",
   "metadata": {},
   "outputs": [],
   "source": [
    "a = 5\n",
    "A = \"DvS\"\n",
    "print(a)\n",
    "print(A)"
   ]
  },
  {
   "cell_type": "code",
   "execution_count": 40,
   "id": "3b1a61a4",
   "metadata": {},
   "outputs": [
    {
     "name": "stdout",
     "output_type": "stream",
     "text": [
      "my name is Divyesh\n"
     ]
    }
   ],
   "source": [
    "x = \"my\"\n",
    "y = \"name is\"\n",
    "z = \"Divyesh\"\n",
    "print(x,y,z)"
   ]
  },
  {
   "cell_type": "code",
   "execution_count": 19,
   "id": "3ee4fca0",
   "metadata": {},
   "outputs": [
    {
     "name": "stdout",
     "output_type": "stream",
     "text": [
      "my name is Divyesh\n"
     ]
    }
   ],
   "source": [
    "x = \"my\"\n",
    "y = \"name is\"\n",
    "z = \"Divyesh\"\n",
    "print(x+\" \"+y+\" \"+z)"
   ]
  },
  {
   "cell_type": "code",
   "execution_count": 20,
   "id": "a86447ef",
   "metadata": {},
   "outputs": [
    {
     "name": "stdout",
     "output_type": "stream",
     "text": [
      "9.5\n"
     ]
    }
   ],
   "source": [
    "x = 4.5\n",
    "y = 5\n",
    "print(x + y)"
   ]
  },
  {
   "cell_type": "code",
   "execution_count": 21,
   "id": "fd9165cd",
   "metadata": {},
   "outputs": [
    {
     "name": "stdout",
     "output_type": "stream",
     "text": [
      "5 Coding\n"
     ]
    }
   ],
   "source": [
    "x = 5\n",
    "y = \"Coding\"\n",
    "print(x,y)"
   ]
  },
  {
   "cell_type": "code",
   "execution_count": 24,
   "id": "b0aa3e93",
   "metadata": {},
   "outputs": [
    {
     "name": "stdout",
     "output_type": "stream",
     "text": [
      "6.8sh5.8\n"
     ]
    }
   ],
   "source": [
    "x = 6.8\n",
    "y = \"sh\"\n",
    "z = \"5.8\"\n",
    "print(x+y+z)"
   ]
  },
  {
   "cell_type": "code",
   "execution_count": 38,
   "id": "44a3cae8",
   "metadata": {},
   "outputs": [
    {
     "ename": "SyntaxError",
     "evalue": "invalid syntax (2842854786.py, line 3)",
     "output_type": "error",
     "traceback": [
      "\u001b[1;36m  Cell \u001b[1;32mIn[38], line 3\u001b[1;36m\u001b[0m\n\u001b[1;33m    print(x+y+)\u001b[0m\n\u001b[1;37m              ^\u001b[0m\n\u001b[1;31mSyntaxError\u001b[0m\u001b[1;31m:\u001b[0m invalid syntax\n"
     ]
    }
   ],
   "source": [
    "x = \"4\"\n",
    "y = \"7.8\"\n",
    "print(x+y+)"
   ]
  },
  {
   "cell_type": "code",
   "execution_count": null,
   "id": "cc51b7a3",
   "metadata": {},
   "outputs": [],
   "source": []
  },
  {
   "cell_type": "code",
   "execution_count": 37,
   "id": "4048b369",
   "metadata": {},
   "outputs": [
    {
     "name": "stdout",
     "output_type": "stream",
     "text": [
      "<class 'str'>\n"
     ]
    }
   ],
   "source": [
    "print(type(\"hy\"))"
   ]
  },
  {
   "cell_type": "code",
   "execution_count": 36,
   "id": "6704e5be",
   "metadata": {},
   "outputs": [
    {
     "name": "stdout",
     "output_type": "stream",
     "text": [
      "dhruv\n"
     ]
    }
   ],
   "source": [
    "_n89ame = \"dhruv\"\n",
    "print(_n89ame)"
   ]
  },
  {
   "cell_type": "code",
   "execution_count": 23,
   "id": "5a13d3cb",
   "metadata": {},
   "outputs": [
    {
     "name": "stdout",
     "output_type": "stream",
     "text": [
      "45 45 45\n"
     ]
    }
   ],
   "source": [
    "x=y=z = 45\n",
    "print(x,y,z)"
   ]
  },
  {
   "cell_type": "code",
   "execution_count": 34,
   "id": "b3ba3aaf",
   "metadata": {},
   "outputs": [
    {
     "name": "stdout",
     "output_type": "stream",
     "text": [
      "45 56 89\n"
     ]
    }
   ],
   "source": [
    "a,b,c = 45,56,89\n",
    "print(a,b,c)"
   ]
  },
  {
   "cell_type": "code",
   "execution_count": 33,
   "id": "143c716f",
   "metadata": {},
   "outputs": [
    {
     "name": "stdout",
     "output_type": "stream",
     "text": [
      "<class 'str'>\n"
     ]
    }
   ],
   "source": [
    "a = (\"56\")\n",
    "print(type(a))"
   ]
  },
  {
   "cell_type": "code",
   "execution_count": 32,
   "id": "75b68cfb",
   "metadata": {},
   "outputs": [
    {
     "ename": "TypeError",
     "evalue": "can only concatenate str (not \"int\") to str",
     "output_type": "error",
     "traceback": [
      "\u001b[1;31m---------------------------------------------------------------------------\u001b[0m",
      "\u001b[1;31mTypeError\u001b[0m                                 Traceback (most recent call last)",
      "Cell \u001b[1;32mIn[32], line 4\u001b[0m\n\u001b[0;32m      2\u001b[0m b \u001b[39m=\u001b[39m \u001b[39m'\u001b[39m\u001b[39mi\u001b[39m\u001b[39m\"\u001b[39m\u001b[39mm\u001b[39m\u001b[39m'\u001b[39m\n\u001b[0;32m      3\u001b[0m c \u001b[39m=\u001b[39m \u001b[39m89\u001b[39m\n\u001b[1;32m----> 4\u001b[0m \u001b[39mprint\u001b[39m(a\u001b[39m+\u001b[39;49mb\u001b[39m+\u001b[39;49mc)\n",
      "\u001b[1;31mTypeError\u001b[0m: can only concatenate str (not \"int\") to str"
     ]
    }
   ],
   "source": [
    "a = 'hy'\n",
    "b = 'i\"m'\n",
    "c = 89\n",
    "print(a+b+c)"
   ]
  },
  {
   "cell_type": "code",
   "execution_count": null,
   "id": "9c91eacf",
   "metadata": {},
   "outputs": [],
   "source": []
  }
 ],
 "metadata": {
  "kernelspec": {
   "display_name": "Python 3",
   "language": "python",
   "name": "python3"
  },
  "language_info": {
   "codemirror_mode": {
    "name": "ipython",
    "version": 3
   },
   "file_extension": ".py",
   "mimetype": "text/x-python",
   "name": "python",
   "nbconvert_exporter": "python",
   "pygments_lexer": "ipython3",
   "version": "3.11.0"
  },
  "vscode": {
   "interpreter": {
    "hash": "8234067497fbd6b95f87454e4c04d7068f4c853add15f694f8e3563fe9fbbd7f"
   }
  }
 },
 "nbformat": 4,
 "nbformat_minor": 5
}
