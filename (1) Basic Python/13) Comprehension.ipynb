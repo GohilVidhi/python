{
 "cells": [
  {
   "cell_type": "markdown",
   "id": "dda418d5",
   "metadata": {},
   "source": [
    "# Comprehension"
   ]
  },
  {
   "cell_type": "raw",
   "id": "c1a0bd22",
   "metadata": {},
   "source": [
    "Comprehensions in Python provide us with a short and concise way to construct new sequences (such as lists,set,dictionary etc.) using sequences which have been already defined. \n",
    "\n",
    "Python supports the following 4 types of comprehensions:\n",
    "    -List Comprehensions\n",
    "    -Dictionary Comprehensions\n",
    "    -Set Comprehensions\n",
    "    -Generator Comprehensions"
   ]
  },
  {
   "cell_type": "markdown",
   "id": "6da8c82c",
   "metadata": {},
   "source": [
    "## List Comprehensions:"
   ]
  },
  {
   "cell_type": "raw",
   "id": "57f14994",
   "metadata": {},
   "source": [
    "List Comprehensions provide an elegant way to create new lists. \n",
    "The following is the basic structure of a list comprehension:\n",
    "   output_list = [output_exp for var in input_list if (var satisfies this condition)]"
   ]
  },
  {
   "cell_type": "code",
   "execution_count": 1,
   "id": "199b4442",
   "metadata": {},
   "outputs": [
    {
     "name": "stdout",
     "output_type": "stream",
     "text": [
      "[1, 2, 3, 4, 5, 6, 7, 8, 9, 10, 11, 12, 13, 14, 15, 16, 17, 18, 19, 20, 21, 22, 23, 24, 25, 26, 27, 28, 29, 30, 31, 32, 33, 34, 35, 36, 37, 38, 39, 40, 41, 42, 43, 44, 45, 46, 47, 48, 49, 50]\n"
     ]
    }
   ],
   "source": [
    "a = [var for var in range(1,51)]\n",
    "print(a)"
   ]
  },
  {
   "cell_type": "code",
   "execution_count": 2,
   "id": "f98ae80b",
   "metadata": {},
   "outputs": [
    {
     "name": "stdout",
     "output_type": "stream",
     "text": [
      "[2, 4, 6, 8, 10, 12, 14, 16, 18, 20, 22, 24, 26, 28, 30, 32, 34, 36, 38]\n"
     ]
    }
   ],
   "source": [
    "b = [x for x in range(2,40,2)]\n",
    "print(b)"
   ]
  },
  {
   "cell_type": "code",
   "execution_count": 3,
   "id": "8f0fc23c",
   "metadata": {},
   "outputs": [
    {
     "name": "stdout",
     "output_type": "stream",
     "text": [
      "[1, 4, 9, 16, 25, 36, 49, 64]\n"
     ]
    }
   ],
   "source": [
    "x = [1,2,3,4,5,6,7,8]\n",
    "\n",
    "sq = [v1**2 for v1 in x]\n",
    "print(sq)"
   ]
  },
  {
   "cell_type": "code",
   "execution_count": 4,
   "id": "8c4a702d",
   "metadata": {},
   "outputs": [
    {
     "name": "stdout",
     "output_type": "stream",
     "text": [
      "Output List using list comprehensions: [2, 4, 4, 6]\n"
     ]
    }
   ],
   "source": [
    "input_list = [1, 2, 3, 4, 4, 5, 6, 7, 7]\n",
    "\n",
    "list_using_comp = [var for var in input_list if var % 2 == 0]\n",
    "print(\"Output List using list comprehensions:\",list_using_comp)"
   ]
  },
  {
   "cell_type": "markdown",
   "id": "758114c7",
   "metadata": {},
   "source": [
    "## Dictionary Comprehensions:"
   ]
  },
  {
   "cell_type": "raw",
   "id": "fb72328c",
   "metadata": {},
   "source": [
    "output_dict = {key:value for (key, value) in iterable if (key, value satisfy this condition)}"
   ]
  },
  {
   "cell_type": "code",
   "execution_count": 5,
   "id": "d9ac56d7",
   "metadata": {},
   "outputs": [
    {
     "name": "stdout",
     "output_type": "stream",
     "text": [
      "Output Dictionary using dictionary comprehensions: {1: 1, 3: 27, 5: 125, 7: 343}\n"
     ]
    }
   ],
   "source": [
    "input_list = [1,2,3,4,5,6,7]\n",
    "\n",
    "dict_using_comp = {var:var ** 3 for var in input_list if var % 2 != 0}\n",
    "print(\"Output Dictionary using dictionary comprehensions:\",dict_using_comp)"
   ]
  },
  {
   "cell_type": "code",
   "execution_count": 1,
   "id": "d82f68f1",
   "metadata": {},
   "outputs": [
    {
     "name": "stdout",
     "output_type": "stream",
     "text": [
      "Output Dictionary using dictionary comprehensions: {'Gujarat': 'Gandhinagar', 'Maharashtra': 'Mumbai', 'Rajasthan': 'Jaipur'}\n"
     ]
    }
   ],
   "source": [
    "state = ['Gujarat', 'Maharashtra', 'Rajasthan']\n",
    "capital = ['Gandhinagar', 'Mumbai', 'Jaipur']\n",
    "\n",
    "dict_using_comp = {key:value for (key, value) in zip(state, capital)}\n",
    "print(\"Output Dictionary using dictionary comprehensions:\", dict_using_comp)"
   ]
  },
  {
   "cell_type": "markdown",
   "id": "25f2088c",
   "metadata": {},
   "source": [
    "## Set Comprehensions:"
   ]
  },
  {
   "cell_type": "raw",
   "id": "68cf6bda",
   "metadata": {},
   "source": [
    "Set comprehensions are pretty similar to list comprehensions. The only difference between them is that set comprehensions use curly brackets { }."
   ]
  },
  {
   "cell_type": "code",
   "execution_count": 7,
   "id": "f6723abd",
   "metadata": {},
   "outputs": [
    {
     "name": "stdout",
     "output_type": "stream",
     "text": [
      "{1, 2, 3, 4, 5, 6, 7, 8, 9, 10, 11, 12, 13, 14, 15, 16, 17, 18, 19, 20, 21, 22, 23, 24, 25, 26, 27, 28, 29, 30, 31, 32, 33, 34, 35, 36, 37, 38, 39, 40, 41, 42, 43, 44, 45, 46, 47, 48, 49, 50}\n"
     ]
    }
   ],
   "source": [
    "a = {var for var in range(1,51)}\n",
    "print(a)"
   ]
  },
  {
   "cell_type": "code",
   "execution_count": 8,
   "id": "a9e4cce7",
   "metadata": {},
   "outputs": [
    {
     "name": "stdout",
     "output_type": "stream",
     "text": [
      "{2, 4, 6, 8, 10, 12, 14, 16, 18, 20, 22, 24, 26, 28, 30, 32, 34, 36, 38}\n"
     ]
    }
   ],
   "source": [
    "b = {x for x in range(2,40,2)}\n",
    "print(b)"
   ]
  },
  {
   "cell_type": "code",
   "execution_count": 4,
   "id": "4a47f35d",
   "metadata": {},
   "outputs": [
    {
     "name": "stdout",
     "output_type": "stream",
     "text": [
      "{64, 1, 4, 36, 9, 16, 49, 25}\n"
     ]
    }
   ],
   "source": [
    "# x = [1,2,3,4,5,6,7,8]\n",
    "x = {1,2,3,4,5,6,7,8}\n",
    "\n",
    "sq = {v1**2 for v1 in x}\n",
    "print(sq)"
   ]
  },
  {
   "cell_type": "code",
   "execution_count": 10,
   "id": "90740fd9",
   "metadata": {},
   "outputs": [
    {
     "name": "stdout",
     "output_type": "stream",
     "text": [
      "Output Set using set comprehensions: {1, 3, 5, 7}\n"
     ]
    }
   ],
   "source": [
    "input_list = [1, 2, 3, 4, 4, 5, 6, 6, 6, 7, 7]\n",
    "set_using_comp = {var for var in input_list if var % 2 != 0}\n",
    "print(\"Output Set using set comprehensions:\",set_using_comp)"
   ]
  },
  {
   "cell_type": "markdown",
   "id": "7b69bb20",
   "metadata": {},
   "source": [
    "## Generator Comprehensions:"
   ]
  },
  {
   "cell_type": "raw",
   "id": "69f95a9d",
   "metadata": {},
   "source": [
    "Generator Comprehensions are very similar to list comprehensions. One difference between them is that generator comprehensions use circular brackets whereas list comprehensions use square brackets. The major difference between them is that generators don’t allocate memory for the whole list. Instead, they generate each value one by one which is why they are memory efficient."
   ]
  },
  {
   "cell_type": "code",
   "execution_count": 14,
   "id": "0b190b08",
   "metadata": {},
   "outputs": [
    {
     "name": "stdout",
     "output_type": "stream",
     "text": [
      "Output values using generator comprehensions: 6 2 4 4 6 "
     ]
    }
   ],
   "source": [
    "input_value = (1, 2, 3, 4, 4, 5, 6, 7, 7)\n",
    "output_gen = (var for var in input_value if var % 2 == 0)\n",
    "  \n",
    "print(\"Output values using generator comprehensions:\",var, end = ' ')\n",
    "  \n",
    "for var in output_gen:\n",
    "    print(var, end = ' ')"
   ]
  }
 ],
 "metadata": {
  "kernelspec": {
   "display_name": "Python 3",
   "language": "python",
   "name": "python3"
  },
  "language_info": {
   "codemirror_mode": {
    "name": "ipython",
    "version": 3
   },
   "file_extension": ".py",
   "mimetype": "text/x-python",
   "name": "python",
   "nbconvert_exporter": "python",
   "pygments_lexer": "ipython3",
   "version": "3.11.0"
  },
  "vscode": {
   "interpreter": {
    "hash": "8234067497fbd6b95f87454e4c04d7068f4c853add15f694f8e3563fe9fbbd7f"
   }
  }
 },
 "nbformat": 4,
 "nbformat_minor": 5
}
